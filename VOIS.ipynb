{
 "cells": [
  {
   "cell_type": "markdown",
   "metadata": {},
   "source": [
    "# Sales Data Analysis Mini Project"
   ]
  },
  {
   "cell_type": "markdown",
   "metadata": {},
   "source": [
    "### NAME : ARIHANT SURANA \n",
    "### PRN : 18070122009\n",
    "### COLLEGE NAME : SYMBIOSIS INSTITUTE OF TECHNOLOGY \n",
    "### BATCH : 2018-2022\n",
    "### E-mail : arihant.surana.btech2018@sitpune.edu.in"
   ]
  },
  {
   "cell_type": "markdown",
   "metadata": {},
   "source": [
    "# Task 1 Importing Libraries"
   ]
  },
  {
   "cell_type": "code",
   "execution_count": 1,
   "metadata": {},
   "outputs": [],
   "source": [
    "import pandas as pd\n",
    "import numpy as np\n",
    "import matplotlib.pyplot as plt\n",
    "%matplotlib inline"
   ]
  },
  {
   "cell_type": "markdown",
   "metadata": {},
   "source": [
    "# Task 2 Data loading and overview"
   ]
  },
  {
   "cell_type": "markdown",
   "metadata": {},
   "source": [
    "## a.Load the dataset from a file"
   ]
  },
  {
   "cell_type": "code",
   "execution_count": 2,
   "metadata": {},
   "outputs": [],
   "source": [
    "sales_data_analysis = pd.read_excel(r'C:\\Users\\Hp\\Desktop\\VOIS\\Superstore.xls')\n",
    "                                "
   ]
  },
  {
   "cell_type": "markdown",
   "metadata": {},
   "source": [
    "## b.Look at the first 5 records of the data\n"
   ]
  },
  {
   "cell_type": "code",
   "execution_count": 3,
   "metadata": {},
   "outputs": [
    {
     "data": {
      "text/html": [
       "<div>\n",
       "<style scoped>\n",
       "    .dataframe tbody tr th:only-of-type {\n",
       "        vertical-align: middle;\n",
       "    }\n",
       "\n",
       "    .dataframe tbody tr th {\n",
       "        vertical-align: top;\n",
       "    }\n",
       "\n",
       "    .dataframe thead th {\n",
       "        text-align: right;\n",
       "    }\n",
       "</style>\n",
       "<table border=\"1\" class=\"dataframe\">\n",
       "  <thead>\n",
       "    <tr style=\"text-align: right;\">\n",
       "      <th></th>\n",
       "      <th>Row ID</th>\n",
       "      <th>Order ID</th>\n",
       "      <th>Order Date</th>\n",
       "      <th>Ship Date</th>\n",
       "      <th>Ship Mode</th>\n",
       "      <th>Customer ID</th>\n",
       "      <th>Customer Name</th>\n",
       "      <th>Segment</th>\n",
       "      <th>Country</th>\n",
       "      <th>City</th>\n",
       "      <th>...</th>\n",
       "      <th>Postal Code</th>\n",
       "      <th>Region</th>\n",
       "      <th>Product ID</th>\n",
       "      <th>Category</th>\n",
       "      <th>Sub-Category</th>\n",
       "      <th>Product Name</th>\n",
       "      <th>Sales</th>\n",
       "      <th>Quantity</th>\n",
       "      <th>Discount</th>\n",
       "      <th>Profit</th>\n",
       "    </tr>\n",
       "  </thead>\n",
       "  <tbody>\n",
       "    <tr>\n",
       "      <th>0</th>\n",
       "      <td>1</td>\n",
       "      <td>CA-2016-152156</td>\n",
       "      <td>2016-11-08</td>\n",
       "      <td>2016-11-11</td>\n",
       "      <td>Second Class</td>\n",
       "      <td>CG-12520</td>\n",
       "      <td>Claire Gute</td>\n",
       "      <td>Consumer</td>\n",
       "      <td>United States</td>\n",
       "      <td>Henderson</td>\n",
       "      <td>...</td>\n",
       "      <td>42420</td>\n",
       "      <td>South</td>\n",
       "      <td>FUR-BO-10001798</td>\n",
       "      <td>Furniture</td>\n",
       "      <td>Bookcases</td>\n",
       "      <td>Bush Somerset Collection Bookcase</td>\n",
       "      <td>261.9600</td>\n",
       "      <td>2</td>\n",
       "      <td>0.00</td>\n",
       "      <td>41.9136</td>\n",
       "    </tr>\n",
       "    <tr>\n",
       "      <th>1</th>\n",
       "      <td>2</td>\n",
       "      <td>CA-2016-152156</td>\n",
       "      <td>2016-11-08</td>\n",
       "      <td>2016-11-11</td>\n",
       "      <td>Second Class</td>\n",
       "      <td>CG-12520</td>\n",
       "      <td>Claire Gute</td>\n",
       "      <td>Consumer</td>\n",
       "      <td>United States</td>\n",
       "      <td>Henderson</td>\n",
       "      <td>...</td>\n",
       "      <td>42420</td>\n",
       "      <td>South</td>\n",
       "      <td>FUR-CH-10000454</td>\n",
       "      <td>Furniture</td>\n",
       "      <td>Chairs</td>\n",
       "      <td>Hon Deluxe Fabric Upholstered Stacking Chairs,...</td>\n",
       "      <td>731.9400</td>\n",
       "      <td>3</td>\n",
       "      <td>0.00</td>\n",
       "      <td>219.5820</td>\n",
       "    </tr>\n",
       "    <tr>\n",
       "      <th>2</th>\n",
       "      <td>3</td>\n",
       "      <td>CA-2016-138688</td>\n",
       "      <td>2016-06-12</td>\n",
       "      <td>2016-06-16</td>\n",
       "      <td>Second Class</td>\n",
       "      <td>DV-13045</td>\n",
       "      <td>Darrin Van Huff</td>\n",
       "      <td>Corporate</td>\n",
       "      <td>United States</td>\n",
       "      <td>Los Angeles</td>\n",
       "      <td>...</td>\n",
       "      <td>90036</td>\n",
       "      <td>West</td>\n",
       "      <td>OFF-LA-10000240</td>\n",
       "      <td>Office Supplies</td>\n",
       "      <td>Labels</td>\n",
       "      <td>Self-Adhesive Address Labels for Typewriters b...</td>\n",
       "      <td>14.6200</td>\n",
       "      <td>2</td>\n",
       "      <td>0.00</td>\n",
       "      <td>6.8714</td>\n",
       "    </tr>\n",
       "    <tr>\n",
       "      <th>3</th>\n",
       "      <td>4</td>\n",
       "      <td>US-2015-108966</td>\n",
       "      <td>2015-10-11</td>\n",
       "      <td>2015-10-18</td>\n",
       "      <td>Standard Class</td>\n",
       "      <td>SO-20335</td>\n",
       "      <td>Sean O'Donnell</td>\n",
       "      <td>Consumer</td>\n",
       "      <td>United States</td>\n",
       "      <td>Fort Lauderdale</td>\n",
       "      <td>...</td>\n",
       "      <td>33311</td>\n",
       "      <td>South</td>\n",
       "      <td>FUR-TA-10000577</td>\n",
       "      <td>Furniture</td>\n",
       "      <td>Tables</td>\n",
       "      <td>Bretford CR4500 Series Slim Rectangular Table</td>\n",
       "      <td>957.5775</td>\n",
       "      <td>5</td>\n",
       "      <td>0.45</td>\n",
       "      <td>-383.0310</td>\n",
       "    </tr>\n",
       "    <tr>\n",
       "      <th>4</th>\n",
       "      <td>5</td>\n",
       "      <td>US-2015-108966</td>\n",
       "      <td>2015-10-11</td>\n",
       "      <td>2015-10-18</td>\n",
       "      <td>Standard Class</td>\n",
       "      <td>SO-20335</td>\n",
       "      <td>Sean O'Donnell</td>\n",
       "      <td>Consumer</td>\n",
       "      <td>United States</td>\n",
       "      <td>Fort Lauderdale</td>\n",
       "      <td>...</td>\n",
       "      <td>33311</td>\n",
       "      <td>South</td>\n",
       "      <td>OFF-ST-10000760</td>\n",
       "      <td>Office Supplies</td>\n",
       "      <td>Storage</td>\n",
       "      <td>Eldon Fold 'N Roll Cart System</td>\n",
       "      <td>22.3680</td>\n",
       "      <td>2</td>\n",
       "      <td>0.20</td>\n",
       "      <td>2.5164</td>\n",
       "    </tr>\n",
       "  </tbody>\n",
       "</table>\n",
       "<p>5 rows × 21 columns</p>\n",
       "</div>"
      ],
      "text/plain": [
       "   Row ID        Order ID Order Date  Ship Date       Ship Mode Customer ID  \\\n",
       "0       1  CA-2016-152156 2016-11-08 2016-11-11    Second Class    CG-12520   \n",
       "1       2  CA-2016-152156 2016-11-08 2016-11-11    Second Class    CG-12520   \n",
       "2       3  CA-2016-138688 2016-06-12 2016-06-16    Second Class    DV-13045   \n",
       "3       4  US-2015-108966 2015-10-11 2015-10-18  Standard Class    SO-20335   \n",
       "4       5  US-2015-108966 2015-10-11 2015-10-18  Standard Class    SO-20335   \n",
       "\n",
       "     Customer Name    Segment        Country             City  ...  \\\n",
       "0      Claire Gute   Consumer  United States        Henderson  ...   \n",
       "1      Claire Gute   Consumer  United States        Henderson  ...   \n",
       "2  Darrin Van Huff  Corporate  United States      Los Angeles  ...   \n",
       "3   Sean O'Donnell   Consumer  United States  Fort Lauderdale  ...   \n",
       "4   Sean O'Donnell   Consumer  United States  Fort Lauderdale  ...   \n",
       "\n",
       "  Postal Code  Region       Product ID         Category Sub-Category  \\\n",
       "0       42420   South  FUR-BO-10001798        Furniture    Bookcases   \n",
       "1       42420   South  FUR-CH-10000454        Furniture       Chairs   \n",
       "2       90036    West  OFF-LA-10000240  Office Supplies       Labels   \n",
       "3       33311   South  FUR-TA-10000577        Furniture       Tables   \n",
       "4       33311   South  OFF-ST-10000760  Office Supplies      Storage   \n",
       "\n",
       "                                        Product Name     Sales  Quantity  \\\n",
       "0                  Bush Somerset Collection Bookcase  261.9600         2   \n",
       "1  Hon Deluxe Fabric Upholstered Stacking Chairs,...  731.9400         3   \n",
       "2  Self-Adhesive Address Labels for Typewriters b...   14.6200         2   \n",
       "3      Bretford CR4500 Series Slim Rectangular Table  957.5775         5   \n",
       "4                     Eldon Fold 'N Roll Cart System   22.3680         2   \n",
       "\n",
       "   Discount    Profit  \n",
       "0      0.00   41.9136  \n",
       "1      0.00  219.5820  \n",
       "2      0.00    6.8714  \n",
       "3      0.45 -383.0310  \n",
       "4      0.20    2.5164  \n",
       "\n",
       "[5 rows x 21 columns]"
      ]
     },
     "execution_count": 3,
     "metadata": {},
     "output_type": "execute_result"
    }
   ],
   "source": [
    "sales_data_analysis.head()"
   ]
  },
  {
   "cell_type": "markdown",
   "metadata": {},
   "source": [
    "## c. Print the columns contained in the data"
   ]
  },
  {
   "cell_type": "code",
   "execution_count": 4,
   "metadata": {},
   "outputs": [
    {
     "name": "stdout",
     "output_type": "stream",
     "text": [
      "Row ID\n",
      "Order ID\n",
      "Order Date\n",
      "Ship Date\n",
      "Ship Mode\n",
      "Customer ID\n",
      "Customer Name\n",
      "Segment\n",
      "Country\n",
      "City\n",
      "State\n",
      "Postal Code\n",
      "Region\n",
      "Product ID\n",
      "Category\n",
      "Sub-Category\n",
      "Product Name\n",
      "Sales\n",
      "Quantity\n",
      "Discount\n",
      "Profit\n"
     ]
    }
   ],
   "source": [
    "for col in sales_data_analysis.columns:\n",
    "    print (col)"
   ]
  },
  {
   "cell_type": "markdown",
   "metadata": {},
   "source": [
    "## d.Print the attributes like count , mean , max , min, standard deviation etc"
   ]
  },
  {
   "cell_type": "code",
   "execution_count": 5,
   "metadata": {},
   "outputs": [
    {
     "data": {
      "text/plain": [
       "Row ID          4997.500000\n",
       "Postal Code    55190.379428\n",
       "Sales            229.858001\n",
       "Quantity           3.789574\n",
       "Discount           0.156203\n",
       "Profit            28.656896\n",
       "dtype: float64"
      ]
     },
     "execution_count": 5,
     "metadata": {},
     "output_type": "execute_result"
    }
   ],
   "source": [
    "# mean \n",
    "sales_data_analysis.mean()"
   ]
  },
  {
   "cell_type": "code",
   "execution_count": 6,
   "metadata": {},
   "outputs": [
    {
     "data": {
      "text/plain": [
       "Row ID           9994\n",
       "Order ID         9994\n",
       "Order Date       9994\n",
       "Ship Date        9994\n",
       "Ship Mode        9994\n",
       "Customer ID      9994\n",
       "Customer Name    9994\n",
       "Segment          9994\n",
       "Country          9994\n",
       "City             9994\n",
       "State            9994\n",
       "Postal Code      9994\n",
       "Region           9994\n",
       "Product ID       9994\n",
       "Category         9994\n",
       "Sub-Category     9994\n",
       "Product Name     9994\n",
       "Sales            9994\n",
       "Quantity         9994\n",
       "Discount         9994\n",
       "Profit           9994\n",
       "dtype: int64"
      ]
     },
     "execution_count": 6,
     "metadata": {},
     "output_type": "execute_result"
    }
   ],
   "source": [
    "# count\n",
    "sales_data_analysis.count()"
   ]
  },
  {
   "cell_type": "code",
   "execution_count": 7,
   "metadata": {},
   "outputs": [
    {
     "data": {
      "text/plain": [
       "Row ID                                         9994\n",
       "Order ID                             US-2017-169551\n",
       "Order Date                      2017-12-30 00:00:00\n",
       "Ship Date                       2018-01-05 00:00:00\n",
       "Ship Mode                            Standard Class\n",
       "Customer ID                                ZD-21925\n",
       "Customer Name                    Zuschuss Donatelli\n",
       "Segment                                 Home Office\n",
       "Country                               United States\n",
       "City                                           Yuma\n",
       "State                                       Wyoming\n",
       "Postal Code                                   99301\n",
       "Region                                         West\n",
       "Product ID                          TEC-PH-10004977\n",
       "Category                                 Technology\n",
       "Sub-Category                                 Tables\n",
       "Product Name     netTALK DUO VoIP Telephone Service\n",
       "Sales                                       22638.5\n",
       "Quantity                                         14\n",
       "Discount                                        0.8\n",
       "Profit                                      8399.98\n",
       "dtype: object"
      ]
     },
     "execution_count": 7,
     "metadata": {},
     "output_type": "execute_result"
    }
   ],
   "source": [
    "# maximum\n",
    "sales_data_analysis.max()"
   ]
  },
  {
   "cell_type": "code",
   "execution_count": 8,
   "metadata": {},
   "outputs": [
    {
     "data": {
      "text/plain": [
       "Row ID                                                           1\n",
       "Order ID                                            CA-2014-100006\n",
       "Order Date                                     2014-01-03 00:00:00\n",
       "Ship Date                                      2014-01-07 00:00:00\n",
       "Ship Mode                                              First Class\n",
       "Customer ID                                               AA-10315\n",
       "Customer Name                                        Aaron Bergman\n",
       "Segment                                                   Consumer\n",
       "Country                                              United States\n",
       "City                                                      Aberdeen\n",
       "State                                                      Alabama\n",
       "Postal Code                                                   1040\n",
       "Region                                                     Central\n",
       "Product ID                                         FUR-BO-10000112\n",
       "Category                                                 Furniture\n",
       "Sub-Category                                           Accessories\n",
       "Product Name     \"While you Were Out\" Message Book, One Form pe...\n",
       "Sales                                                        0.444\n",
       "Quantity                                                         1\n",
       "Discount                                                         0\n",
       "Profit                                                    -6599.98\n",
       "dtype: object"
      ]
     },
     "execution_count": 8,
     "metadata": {},
     "output_type": "execute_result"
    }
   ],
   "source": [
    "# minimum \n",
    "sales_data_analysis.min()"
   ]
  },
  {
   "cell_type": "code",
   "execution_count": 9,
   "metadata": {},
   "outputs": [
    {
     "data": {
      "text/plain": [
       "Row ID          2885.163629\n",
       "Postal Code    32063.693350\n",
       "Sales            623.245101\n",
       "Quantity           2.225110\n",
       "Discount           0.206452\n",
       "Profit           234.260108\n",
       "dtype: float64"
      ]
     },
     "execution_count": 9,
     "metadata": {},
     "output_type": "execute_result"
    }
   ],
   "source": [
    "# Standard Deviation \n",
    "sales_data_analysis.std()"
   ]
  },
  {
   "cell_type": "markdown",
   "metadata": {},
   "source": [
    "## e.Find out are there any missing or null values in the data for all columns\n"
   ]
  },
  {
   "cell_type": "code",
   "execution_count": 10,
   "metadata": {},
   "outputs": [
    {
     "data": {
      "text/html": [
       "<div>\n",
       "<style scoped>\n",
       "    .dataframe tbody tr th:only-of-type {\n",
       "        vertical-align: middle;\n",
       "    }\n",
       "\n",
       "    .dataframe tbody tr th {\n",
       "        vertical-align: top;\n",
       "    }\n",
       "\n",
       "    .dataframe thead th {\n",
       "        text-align: right;\n",
       "    }\n",
       "</style>\n",
       "<table border=\"1\" class=\"dataframe\">\n",
       "  <thead>\n",
       "    <tr style=\"text-align: right;\">\n",
       "      <th></th>\n",
       "      <th>Row ID</th>\n",
       "      <th>Order ID</th>\n",
       "      <th>Order Date</th>\n",
       "      <th>Ship Date</th>\n",
       "      <th>Ship Mode</th>\n",
       "      <th>Customer ID</th>\n",
       "      <th>Customer Name</th>\n",
       "      <th>Segment</th>\n",
       "      <th>Country</th>\n",
       "      <th>City</th>\n",
       "      <th>...</th>\n",
       "      <th>Postal Code</th>\n",
       "      <th>Region</th>\n",
       "      <th>Product ID</th>\n",
       "      <th>Category</th>\n",
       "      <th>Sub-Category</th>\n",
       "      <th>Product Name</th>\n",
       "      <th>Sales</th>\n",
       "      <th>Quantity</th>\n",
       "      <th>Discount</th>\n",
       "      <th>Profit</th>\n",
       "    </tr>\n",
       "  </thead>\n",
       "  <tbody>\n",
       "    <tr>\n",
       "      <th>0</th>\n",
       "      <td>False</td>\n",
       "      <td>False</td>\n",
       "      <td>False</td>\n",
       "      <td>False</td>\n",
       "      <td>False</td>\n",
       "      <td>False</td>\n",
       "      <td>False</td>\n",
       "      <td>False</td>\n",
       "      <td>False</td>\n",
       "      <td>False</td>\n",
       "      <td>...</td>\n",
       "      <td>False</td>\n",
       "      <td>False</td>\n",
       "      <td>False</td>\n",
       "      <td>False</td>\n",
       "      <td>False</td>\n",
       "      <td>False</td>\n",
       "      <td>False</td>\n",
       "      <td>False</td>\n",
       "      <td>False</td>\n",
       "      <td>False</td>\n",
       "    </tr>\n",
       "    <tr>\n",
       "      <th>1</th>\n",
       "      <td>False</td>\n",
       "      <td>False</td>\n",
       "      <td>False</td>\n",
       "      <td>False</td>\n",
       "      <td>False</td>\n",
       "      <td>False</td>\n",
       "      <td>False</td>\n",
       "      <td>False</td>\n",
       "      <td>False</td>\n",
       "      <td>False</td>\n",
       "      <td>...</td>\n",
       "      <td>False</td>\n",
       "      <td>False</td>\n",
       "      <td>False</td>\n",
       "      <td>False</td>\n",
       "      <td>False</td>\n",
       "      <td>False</td>\n",
       "      <td>False</td>\n",
       "      <td>False</td>\n",
       "      <td>False</td>\n",
       "      <td>False</td>\n",
       "    </tr>\n",
       "    <tr>\n",
       "      <th>2</th>\n",
       "      <td>False</td>\n",
       "      <td>False</td>\n",
       "      <td>False</td>\n",
       "      <td>False</td>\n",
       "      <td>False</td>\n",
       "      <td>False</td>\n",
       "      <td>False</td>\n",
       "      <td>False</td>\n",
       "      <td>False</td>\n",
       "      <td>False</td>\n",
       "      <td>...</td>\n",
       "      <td>False</td>\n",
       "      <td>False</td>\n",
       "      <td>False</td>\n",
       "      <td>False</td>\n",
       "      <td>False</td>\n",
       "      <td>False</td>\n",
       "      <td>False</td>\n",
       "      <td>False</td>\n",
       "      <td>False</td>\n",
       "      <td>False</td>\n",
       "    </tr>\n",
       "    <tr>\n",
       "      <th>3</th>\n",
       "      <td>False</td>\n",
       "      <td>False</td>\n",
       "      <td>False</td>\n",
       "      <td>False</td>\n",
       "      <td>False</td>\n",
       "      <td>False</td>\n",
       "      <td>False</td>\n",
       "      <td>False</td>\n",
       "      <td>False</td>\n",
       "      <td>False</td>\n",
       "      <td>...</td>\n",
       "      <td>False</td>\n",
       "      <td>False</td>\n",
       "      <td>False</td>\n",
       "      <td>False</td>\n",
       "      <td>False</td>\n",
       "      <td>False</td>\n",
       "      <td>False</td>\n",
       "      <td>False</td>\n",
       "      <td>False</td>\n",
       "      <td>False</td>\n",
       "    </tr>\n",
       "    <tr>\n",
       "      <th>4</th>\n",
       "      <td>False</td>\n",
       "      <td>False</td>\n",
       "      <td>False</td>\n",
       "      <td>False</td>\n",
       "      <td>False</td>\n",
       "      <td>False</td>\n",
       "      <td>False</td>\n",
       "      <td>False</td>\n",
       "      <td>False</td>\n",
       "      <td>False</td>\n",
       "      <td>...</td>\n",
       "      <td>False</td>\n",
       "      <td>False</td>\n",
       "      <td>False</td>\n",
       "      <td>False</td>\n",
       "      <td>False</td>\n",
       "      <td>False</td>\n",
       "      <td>False</td>\n",
       "      <td>False</td>\n",
       "      <td>False</td>\n",
       "      <td>False</td>\n",
       "    </tr>\n",
       "    <tr>\n",
       "      <th>...</th>\n",
       "      <td>...</td>\n",
       "      <td>...</td>\n",
       "      <td>...</td>\n",
       "      <td>...</td>\n",
       "      <td>...</td>\n",
       "      <td>...</td>\n",
       "      <td>...</td>\n",
       "      <td>...</td>\n",
       "      <td>...</td>\n",
       "      <td>...</td>\n",
       "      <td>...</td>\n",
       "      <td>...</td>\n",
       "      <td>...</td>\n",
       "      <td>...</td>\n",
       "      <td>...</td>\n",
       "      <td>...</td>\n",
       "      <td>...</td>\n",
       "      <td>...</td>\n",
       "      <td>...</td>\n",
       "      <td>...</td>\n",
       "      <td>...</td>\n",
       "    </tr>\n",
       "    <tr>\n",
       "      <th>9989</th>\n",
       "      <td>False</td>\n",
       "      <td>False</td>\n",
       "      <td>False</td>\n",
       "      <td>False</td>\n",
       "      <td>False</td>\n",
       "      <td>False</td>\n",
       "      <td>False</td>\n",
       "      <td>False</td>\n",
       "      <td>False</td>\n",
       "      <td>False</td>\n",
       "      <td>...</td>\n",
       "      <td>False</td>\n",
       "      <td>False</td>\n",
       "      <td>False</td>\n",
       "      <td>False</td>\n",
       "      <td>False</td>\n",
       "      <td>False</td>\n",
       "      <td>False</td>\n",
       "      <td>False</td>\n",
       "      <td>False</td>\n",
       "      <td>False</td>\n",
       "    </tr>\n",
       "    <tr>\n",
       "      <th>9990</th>\n",
       "      <td>False</td>\n",
       "      <td>False</td>\n",
       "      <td>False</td>\n",
       "      <td>False</td>\n",
       "      <td>False</td>\n",
       "      <td>False</td>\n",
       "      <td>False</td>\n",
       "      <td>False</td>\n",
       "      <td>False</td>\n",
       "      <td>False</td>\n",
       "      <td>...</td>\n",
       "      <td>False</td>\n",
       "      <td>False</td>\n",
       "      <td>False</td>\n",
       "      <td>False</td>\n",
       "      <td>False</td>\n",
       "      <td>False</td>\n",
       "      <td>False</td>\n",
       "      <td>False</td>\n",
       "      <td>False</td>\n",
       "      <td>False</td>\n",
       "    </tr>\n",
       "    <tr>\n",
       "      <th>9991</th>\n",
       "      <td>False</td>\n",
       "      <td>False</td>\n",
       "      <td>False</td>\n",
       "      <td>False</td>\n",
       "      <td>False</td>\n",
       "      <td>False</td>\n",
       "      <td>False</td>\n",
       "      <td>False</td>\n",
       "      <td>False</td>\n",
       "      <td>False</td>\n",
       "      <td>...</td>\n",
       "      <td>False</td>\n",
       "      <td>False</td>\n",
       "      <td>False</td>\n",
       "      <td>False</td>\n",
       "      <td>False</td>\n",
       "      <td>False</td>\n",
       "      <td>False</td>\n",
       "      <td>False</td>\n",
       "      <td>False</td>\n",
       "      <td>False</td>\n",
       "    </tr>\n",
       "    <tr>\n",
       "      <th>9992</th>\n",
       "      <td>False</td>\n",
       "      <td>False</td>\n",
       "      <td>False</td>\n",
       "      <td>False</td>\n",
       "      <td>False</td>\n",
       "      <td>False</td>\n",
       "      <td>False</td>\n",
       "      <td>False</td>\n",
       "      <td>False</td>\n",
       "      <td>False</td>\n",
       "      <td>...</td>\n",
       "      <td>False</td>\n",
       "      <td>False</td>\n",
       "      <td>False</td>\n",
       "      <td>False</td>\n",
       "      <td>False</td>\n",
       "      <td>False</td>\n",
       "      <td>False</td>\n",
       "      <td>False</td>\n",
       "      <td>False</td>\n",
       "      <td>False</td>\n",
       "    </tr>\n",
       "    <tr>\n",
       "      <th>9993</th>\n",
       "      <td>False</td>\n",
       "      <td>False</td>\n",
       "      <td>False</td>\n",
       "      <td>False</td>\n",
       "      <td>False</td>\n",
       "      <td>False</td>\n",
       "      <td>False</td>\n",
       "      <td>False</td>\n",
       "      <td>False</td>\n",
       "      <td>False</td>\n",
       "      <td>...</td>\n",
       "      <td>False</td>\n",
       "      <td>False</td>\n",
       "      <td>False</td>\n",
       "      <td>False</td>\n",
       "      <td>False</td>\n",
       "      <td>False</td>\n",
       "      <td>False</td>\n",
       "      <td>False</td>\n",
       "      <td>False</td>\n",
       "      <td>False</td>\n",
       "    </tr>\n",
       "  </tbody>\n",
       "</table>\n",
       "<p>9994 rows × 21 columns</p>\n",
       "</div>"
      ],
      "text/plain": [
       "      Row ID  Order ID  Order Date  Ship Date  Ship Mode  Customer ID  \\\n",
       "0      False     False       False      False      False        False   \n",
       "1      False     False       False      False      False        False   \n",
       "2      False     False       False      False      False        False   \n",
       "3      False     False       False      False      False        False   \n",
       "4      False     False       False      False      False        False   \n",
       "...      ...       ...         ...        ...        ...          ...   \n",
       "9989   False     False       False      False      False        False   \n",
       "9990   False     False       False      False      False        False   \n",
       "9991   False     False       False      False      False        False   \n",
       "9992   False     False       False      False      False        False   \n",
       "9993   False     False       False      False      False        False   \n",
       "\n",
       "      Customer Name  Segment  Country   City  ...  Postal Code  Region  \\\n",
       "0             False    False    False  False  ...        False   False   \n",
       "1             False    False    False  False  ...        False   False   \n",
       "2             False    False    False  False  ...        False   False   \n",
       "3             False    False    False  False  ...        False   False   \n",
       "4             False    False    False  False  ...        False   False   \n",
       "...             ...      ...      ...    ...  ...          ...     ...   \n",
       "9989          False    False    False  False  ...        False   False   \n",
       "9990          False    False    False  False  ...        False   False   \n",
       "9991          False    False    False  False  ...        False   False   \n",
       "9992          False    False    False  False  ...        False   False   \n",
       "9993          False    False    False  False  ...        False   False   \n",
       "\n",
       "      Product ID  Category  Sub-Category  Product Name  Sales  Quantity  \\\n",
       "0          False     False         False         False  False     False   \n",
       "1          False     False         False         False  False     False   \n",
       "2          False     False         False         False  False     False   \n",
       "3          False     False         False         False  False     False   \n",
       "4          False     False         False         False  False     False   \n",
       "...          ...       ...           ...           ...    ...       ...   \n",
       "9989       False     False         False         False  False     False   \n",
       "9990       False     False         False         False  False     False   \n",
       "9991       False     False         False         False  False     False   \n",
       "9992       False     False         False         False  False     False   \n",
       "9993       False     False         False         False  False     False   \n",
       "\n",
       "      Discount  Profit  \n",
       "0        False   False  \n",
       "1        False   False  \n",
       "2        False   False  \n",
       "3        False   False  \n",
       "4        False   False  \n",
       "...        ...     ...  \n",
       "9989     False   False  \n",
       "9990     False   False  \n",
       "9991     False   False  \n",
       "9992     False   False  \n",
       "9993     False   False  \n",
       "\n",
       "[9994 rows x 21 columns]"
      ]
     },
     "execution_count": 10,
     "metadata": {},
     "output_type": "execute_result"
    }
   ],
   "source": [
    "sales_data_analysis.isna()"
   ]
  },
  {
   "cell_type": "code",
   "execution_count": 11,
   "metadata": {},
   "outputs": [
    {
     "data": {
      "text/plain": [
       "Row ID           0\n",
       "Order ID         0\n",
       "Order Date       0\n",
       "Ship Date        0\n",
       "Ship Mode        0\n",
       "Customer ID      0\n",
       "Customer Name    0\n",
       "Segment          0\n",
       "Country          0\n",
       "City             0\n",
       "State            0\n",
       "Postal Code      0\n",
       "Region           0\n",
       "Product ID       0\n",
       "Category         0\n",
       "Sub-Category     0\n",
       "Product Name     0\n",
       "Sales            0\n",
       "Quantity         0\n",
       "Discount         0\n",
       "Profit           0\n",
       "dtype: int64"
      ]
     },
     "execution_count": 11,
     "metadata": {},
     "output_type": "execute_result"
    }
   ],
   "source": [
    "sales_data_analysis.isna().sum()"
   ]
  },
  {
   "cell_type": "markdown",
   "metadata": {},
   "source": [
    "# TASK 3 Find out the per unit price from the data"
   ]
  },
  {
   "cell_type": "markdown",
   "metadata": {},
   "source": [
    "## a. Convert date time field into pandas time object"
   ]
  },
  {
   "cell_type": "code",
   "execution_count": 12,
   "metadata": {},
   "outputs": [],
   "source": [
    "sales_data_analysis[\"Ship Date\"] =  pd.to_datetime(sales_data_analysis[\"Ship Date\"])\n"
   ]
  },
  {
   "cell_type": "markdown",
   "metadata": {},
   "source": [
    "## b. Find out the price per unit from the data and create a column for it in the same data \n",
    "\n"
   ]
  },
  {
   "cell_type": "markdown",
   "metadata": {},
   "source": [
    "Cost Price per unit = ( Selling Price - Profit ) / ( Quantity x ( 1 - Discount ))"
   ]
  },
  {
   "cell_type": "code",
   "execution_count": 13,
   "metadata": {},
   "outputs": [],
   "source": [
    "per_unit_price = ((sales_data_analysis[\"Sales\"] - sales_data_analysis[\"Profit\"]))/ (sales_data_analysis[\"Quantity\"] * (1-sales_data_analysis[\"Discount\"]))\n",
    "sales_data_analysis[\"Price Per Unit\"] = per_unit_price\n"
   ]
  },
  {
   "cell_type": "code",
   "execution_count": 14,
   "metadata": {},
   "outputs": [
    {
     "data": {
      "text/html": [
       "<div>\n",
       "<style scoped>\n",
       "    .dataframe tbody tr th:only-of-type {\n",
       "        vertical-align: middle;\n",
       "    }\n",
       "\n",
       "    .dataframe tbody tr th {\n",
       "        vertical-align: top;\n",
       "    }\n",
       "\n",
       "    .dataframe thead th {\n",
       "        text-align: right;\n",
       "    }\n",
       "</style>\n",
       "<table border=\"1\" class=\"dataframe\">\n",
       "  <thead>\n",
       "    <tr style=\"text-align: right;\">\n",
       "      <th></th>\n",
       "      <th>Row ID</th>\n",
       "      <th>Order ID</th>\n",
       "      <th>Order Date</th>\n",
       "      <th>Ship Date</th>\n",
       "      <th>Ship Mode</th>\n",
       "      <th>Customer ID</th>\n",
       "      <th>Customer Name</th>\n",
       "      <th>Segment</th>\n",
       "      <th>Country</th>\n",
       "      <th>City</th>\n",
       "      <th>...</th>\n",
       "      <th>Region</th>\n",
       "      <th>Product ID</th>\n",
       "      <th>Category</th>\n",
       "      <th>Sub-Category</th>\n",
       "      <th>Product Name</th>\n",
       "      <th>Sales</th>\n",
       "      <th>Quantity</th>\n",
       "      <th>Discount</th>\n",
       "      <th>Profit</th>\n",
       "      <th>Price Per Unit</th>\n",
       "    </tr>\n",
       "  </thead>\n",
       "  <tbody>\n",
       "    <tr>\n",
       "      <th>0</th>\n",
       "      <td>1</td>\n",
       "      <td>CA-2016-152156</td>\n",
       "      <td>2016-11-08</td>\n",
       "      <td>2016-11-11</td>\n",
       "      <td>Second Class</td>\n",
       "      <td>CG-12520</td>\n",
       "      <td>Claire Gute</td>\n",
       "      <td>Consumer</td>\n",
       "      <td>United States</td>\n",
       "      <td>Henderson</td>\n",
       "      <td>...</td>\n",
       "      <td>South</td>\n",
       "      <td>FUR-BO-10001798</td>\n",
       "      <td>Furniture</td>\n",
       "      <td>Bookcases</td>\n",
       "      <td>Bush Somerset Collection Bookcase</td>\n",
       "      <td>261.9600</td>\n",
       "      <td>2</td>\n",
       "      <td>0.00</td>\n",
       "      <td>41.9136</td>\n",
       "      <td>110.02320</td>\n",
       "    </tr>\n",
       "    <tr>\n",
       "      <th>1</th>\n",
       "      <td>2</td>\n",
       "      <td>CA-2016-152156</td>\n",
       "      <td>2016-11-08</td>\n",
       "      <td>2016-11-11</td>\n",
       "      <td>Second Class</td>\n",
       "      <td>CG-12520</td>\n",
       "      <td>Claire Gute</td>\n",
       "      <td>Consumer</td>\n",
       "      <td>United States</td>\n",
       "      <td>Henderson</td>\n",
       "      <td>...</td>\n",
       "      <td>South</td>\n",
       "      <td>FUR-CH-10000454</td>\n",
       "      <td>Furniture</td>\n",
       "      <td>Chairs</td>\n",
       "      <td>Hon Deluxe Fabric Upholstered Stacking Chairs,...</td>\n",
       "      <td>731.9400</td>\n",
       "      <td>3</td>\n",
       "      <td>0.00</td>\n",
       "      <td>219.5820</td>\n",
       "      <td>170.78600</td>\n",
       "    </tr>\n",
       "    <tr>\n",
       "      <th>2</th>\n",
       "      <td>3</td>\n",
       "      <td>CA-2016-138688</td>\n",
       "      <td>2016-06-12</td>\n",
       "      <td>2016-06-16</td>\n",
       "      <td>Second Class</td>\n",
       "      <td>DV-13045</td>\n",
       "      <td>Darrin Van Huff</td>\n",
       "      <td>Corporate</td>\n",
       "      <td>United States</td>\n",
       "      <td>Los Angeles</td>\n",
       "      <td>...</td>\n",
       "      <td>West</td>\n",
       "      <td>OFF-LA-10000240</td>\n",
       "      <td>Office Supplies</td>\n",
       "      <td>Labels</td>\n",
       "      <td>Self-Adhesive Address Labels for Typewriters b...</td>\n",
       "      <td>14.6200</td>\n",
       "      <td>2</td>\n",
       "      <td>0.00</td>\n",
       "      <td>6.8714</td>\n",
       "      <td>3.87430</td>\n",
       "    </tr>\n",
       "    <tr>\n",
       "      <th>3</th>\n",
       "      <td>4</td>\n",
       "      <td>US-2015-108966</td>\n",
       "      <td>2015-10-11</td>\n",
       "      <td>2015-10-18</td>\n",
       "      <td>Standard Class</td>\n",
       "      <td>SO-20335</td>\n",
       "      <td>Sean O'Donnell</td>\n",
       "      <td>Consumer</td>\n",
       "      <td>United States</td>\n",
       "      <td>Fort Lauderdale</td>\n",
       "      <td>...</td>\n",
       "      <td>South</td>\n",
       "      <td>FUR-TA-10000577</td>\n",
       "      <td>Furniture</td>\n",
       "      <td>Tables</td>\n",
       "      <td>Bretford CR4500 Series Slim Rectangular Table</td>\n",
       "      <td>957.5775</td>\n",
       "      <td>5</td>\n",
       "      <td>0.45</td>\n",
       "      <td>-383.0310</td>\n",
       "      <td>487.49400</td>\n",
       "    </tr>\n",
       "    <tr>\n",
       "      <th>4</th>\n",
       "      <td>5</td>\n",
       "      <td>US-2015-108966</td>\n",
       "      <td>2015-10-11</td>\n",
       "      <td>2015-10-18</td>\n",
       "      <td>Standard Class</td>\n",
       "      <td>SO-20335</td>\n",
       "      <td>Sean O'Donnell</td>\n",
       "      <td>Consumer</td>\n",
       "      <td>United States</td>\n",
       "      <td>Fort Lauderdale</td>\n",
       "      <td>...</td>\n",
       "      <td>South</td>\n",
       "      <td>OFF-ST-10000760</td>\n",
       "      <td>Office Supplies</td>\n",
       "      <td>Storage</td>\n",
       "      <td>Eldon Fold 'N Roll Cart System</td>\n",
       "      <td>22.3680</td>\n",
       "      <td>2</td>\n",
       "      <td>0.20</td>\n",
       "      <td>2.5164</td>\n",
       "      <td>12.40725</td>\n",
       "    </tr>\n",
       "  </tbody>\n",
       "</table>\n",
       "<p>5 rows × 22 columns</p>\n",
       "</div>"
      ],
      "text/plain": [
       "   Row ID        Order ID Order Date  Ship Date       Ship Mode Customer ID  \\\n",
       "0       1  CA-2016-152156 2016-11-08 2016-11-11    Second Class    CG-12520   \n",
       "1       2  CA-2016-152156 2016-11-08 2016-11-11    Second Class    CG-12520   \n",
       "2       3  CA-2016-138688 2016-06-12 2016-06-16    Second Class    DV-13045   \n",
       "3       4  US-2015-108966 2015-10-11 2015-10-18  Standard Class    SO-20335   \n",
       "4       5  US-2015-108966 2015-10-11 2015-10-18  Standard Class    SO-20335   \n",
       "\n",
       "     Customer Name    Segment        Country             City  ... Region  \\\n",
       "0      Claire Gute   Consumer  United States        Henderson  ...  South   \n",
       "1      Claire Gute   Consumer  United States        Henderson  ...  South   \n",
       "2  Darrin Van Huff  Corporate  United States      Los Angeles  ...   West   \n",
       "3   Sean O'Donnell   Consumer  United States  Fort Lauderdale  ...  South   \n",
       "4   Sean O'Donnell   Consumer  United States  Fort Lauderdale  ...  South   \n",
       "\n",
       "        Product ID         Category Sub-Category  \\\n",
       "0  FUR-BO-10001798        Furniture    Bookcases   \n",
       "1  FUR-CH-10000454        Furniture       Chairs   \n",
       "2  OFF-LA-10000240  Office Supplies       Labels   \n",
       "3  FUR-TA-10000577        Furniture       Tables   \n",
       "4  OFF-ST-10000760  Office Supplies      Storage   \n",
       "\n",
       "                                        Product Name     Sales Quantity  \\\n",
       "0                  Bush Somerset Collection Bookcase  261.9600        2   \n",
       "1  Hon Deluxe Fabric Upholstered Stacking Chairs,...  731.9400        3   \n",
       "2  Self-Adhesive Address Labels for Typewriters b...   14.6200        2   \n",
       "3      Bretford CR4500 Series Slim Rectangular Table  957.5775        5   \n",
       "4                     Eldon Fold 'N Roll Cart System   22.3680        2   \n",
       "\n",
       "   Discount    Profit  Price Per Unit  \n",
       "0      0.00   41.9136       110.02320  \n",
       "1      0.00  219.5820       170.78600  \n",
       "2      0.00    6.8714         3.87430  \n",
       "3      0.45 -383.0310       487.49400  \n",
       "4      0.20    2.5164        12.40725  \n",
       "\n",
       "[5 rows x 22 columns]"
      ]
     },
     "execution_count": 14,
     "metadata": {},
     "output_type": "execute_result"
    }
   ],
   "source": [
    "sales_data_analysis.head()"
   ]
  },
  {
   "cell_type": "markdown",
   "metadata": {},
   "source": [
    "# TASK 4 Find out the monthly revenue and analyze the findings"
   ]
  },
  {
   "cell_type": "markdown",
   "metadata": {},
   "source": [
    "## a.Create a column with Year and month field only give a suitable name to it "
   ]
  },
  {
   "cell_type": "code",
   "execution_count": 15,
   "metadata": {},
   "outputs": [],
   "source": [
    "## Adding a Year column based on the ship date\n",
    "#sales_data_analysis[\"Year\"] = pd.DatetimeIndex(sales_data_analysis['Ship Date']).year\n",
    "#sales_data_analysis.head()"
   ]
  },
  {
   "cell_type": "code",
   "execution_count": 16,
   "metadata": {},
   "outputs": [],
   "source": [
    "## Adding a month column based on the Ship date\n",
    "#sales_data_analysis[\"Month\"] = pd.DatetimeIndex(sales_data_analysis['Ship Date']).month\n",
    "#sales_data_analysis.head()"
   ]
  },
  {
   "cell_type": "code",
   "execution_count": 17,
   "metadata": {},
   "outputs": [
    {
     "data": {
      "text/html": [
       "<div>\n",
       "<style scoped>\n",
       "    .dataframe tbody tr th:only-of-type {\n",
       "        vertical-align: middle;\n",
       "    }\n",
       "\n",
       "    .dataframe tbody tr th {\n",
       "        vertical-align: top;\n",
       "    }\n",
       "\n",
       "    .dataframe thead th {\n",
       "        text-align: right;\n",
       "    }\n",
       "</style>\n",
       "<table border=\"1\" class=\"dataframe\">\n",
       "  <thead>\n",
       "    <tr style=\"text-align: right;\">\n",
       "      <th></th>\n",
       "      <th>Row ID</th>\n",
       "      <th>Order ID</th>\n",
       "      <th>Order Date</th>\n",
       "      <th>Ship Date</th>\n",
       "      <th>Ship Mode</th>\n",
       "      <th>Customer ID</th>\n",
       "      <th>Customer Name</th>\n",
       "      <th>Segment</th>\n",
       "      <th>Country</th>\n",
       "      <th>City</th>\n",
       "      <th>...</th>\n",
       "      <th>Product ID</th>\n",
       "      <th>Category</th>\n",
       "      <th>Sub-Category</th>\n",
       "      <th>Product Name</th>\n",
       "      <th>Sales</th>\n",
       "      <th>Quantity</th>\n",
       "      <th>Discount</th>\n",
       "      <th>Profit</th>\n",
       "      <th>Price Per Unit</th>\n",
       "      <th>year_month</th>\n",
       "    </tr>\n",
       "  </thead>\n",
       "  <tbody>\n",
       "    <tr>\n",
       "      <th>0</th>\n",
       "      <td>1</td>\n",
       "      <td>CA-2016-152156</td>\n",
       "      <td>2016-11-08</td>\n",
       "      <td>2016-11-11</td>\n",
       "      <td>Second Class</td>\n",
       "      <td>CG-12520</td>\n",
       "      <td>Claire Gute</td>\n",
       "      <td>Consumer</td>\n",
       "      <td>United States</td>\n",
       "      <td>Henderson</td>\n",
       "      <td>...</td>\n",
       "      <td>FUR-BO-10001798</td>\n",
       "      <td>Furniture</td>\n",
       "      <td>Bookcases</td>\n",
       "      <td>Bush Somerset Collection Bookcase</td>\n",
       "      <td>261.9600</td>\n",
       "      <td>2</td>\n",
       "      <td>0.00</td>\n",
       "      <td>41.9136</td>\n",
       "      <td>110.02320</td>\n",
       "      <td>2016-11</td>\n",
       "    </tr>\n",
       "    <tr>\n",
       "      <th>1</th>\n",
       "      <td>2</td>\n",
       "      <td>CA-2016-152156</td>\n",
       "      <td>2016-11-08</td>\n",
       "      <td>2016-11-11</td>\n",
       "      <td>Second Class</td>\n",
       "      <td>CG-12520</td>\n",
       "      <td>Claire Gute</td>\n",
       "      <td>Consumer</td>\n",
       "      <td>United States</td>\n",
       "      <td>Henderson</td>\n",
       "      <td>...</td>\n",
       "      <td>FUR-CH-10000454</td>\n",
       "      <td>Furniture</td>\n",
       "      <td>Chairs</td>\n",
       "      <td>Hon Deluxe Fabric Upholstered Stacking Chairs,...</td>\n",
       "      <td>731.9400</td>\n",
       "      <td>3</td>\n",
       "      <td>0.00</td>\n",
       "      <td>219.5820</td>\n",
       "      <td>170.78600</td>\n",
       "      <td>2016-11</td>\n",
       "    </tr>\n",
       "    <tr>\n",
       "      <th>2</th>\n",
       "      <td>3</td>\n",
       "      <td>CA-2016-138688</td>\n",
       "      <td>2016-06-12</td>\n",
       "      <td>2016-06-16</td>\n",
       "      <td>Second Class</td>\n",
       "      <td>DV-13045</td>\n",
       "      <td>Darrin Van Huff</td>\n",
       "      <td>Corporate</td>\n",
       "      <td>United States</td>\n",
       "      <td>Los Angeles</td>\n",
       "      <td>...</td>\n",
       "      <td>OFF-LA-10000240</td>\n",
       "      <td>Office Supplies</td>\n",
       "      <td>Labels</td>\n",
       "      <td>Self-Adhesive Address Labels for Typewriters b...</td>\n",
       "      <td>14.6200</td>\n",
       "      <td>2</td>\n",
       "      <td>0.00</td>\n",
       "      <td>6.8714</td>\n",
       "      <td>3.87430</td>\n",
       "      <td>2016-06</td>\n",
       "    </tr>\n",
       "    <tr>\n",
       "      <th>3</th>\n",
       "      <td>4</td>\n",
       "      <td>US-2015-108966</td>\n",
       "      <td>2015-10-11</td>\n",
       "      <td>2015-10-18</td>\n",
       "      <td>Standard Class</td>\n",
       "      <td>SO-20335</td>\n",
       "      <td>Sean O'Donnell</td>\n",
       "      <td>Consumer</td>\n",
       "      <td>United States</td>\n",
       "      <td>Fort Lauderdale</td>\n",
       "      <td>...</td>\n",
       "      <td>FUR-TA-10000577</td>\n",
       "      <td>Furniture</td>\n",
       "      <td>Tables</td>\n",
       "      <td>Bretford CR4500 Series Slim Rectangular Table</td>\n",
       "      <td>957.5775</td>\n",
       "      <td>5</td>\n",
       "      <td>0.45</td>\n",
       "      <td>-383.0310</td>\n",
       "      <td>487.49400</td>\n",
       "      <td>2015-10</td>\n",
       "    </tr>\n",
       "    <tr>\n",
       "      <th>4</th>\n",
       "      <td>5</td>\n",
       "      <td>US-2015-108966</td>\n",
       "      <td>2015-10-11</td>\n",
       "      <td>2015-10-18</td>\n",
       "      <td>Standard Class</td>\n",
       "      <td>SO-20335</td>\n",
       "      <td>Sean O'Donnell</td>\n",
       "      <td>Consumer</td>\n",
       "      <td>United States</td>\n",
       "      <td>Fort Lauderdale</td>\n",
       "      <td>...</td>\n",
       "      <td>OFF-ST-10000760</td>\n",
       "      <td>Office Supplies</td>\n",
       "      <td>Storage</td>\n",
       "      <td>Eldon Fold 'N Roll Cart System</td>\n",
       "      <td>22.3680</td>\n",
       "      <td>2</td>\n",
       "      <td>0.20</td>\n",
       "      <td>2.5164</td>\n",
       "      <td>12.40725</td>\n",
       "      <td>2015-10</td>\n",
       "    </tr>\n",
       "  </tbody>\n",
       "</table>\n",
       "<p>5 rows × 23 columns</p>\n",
       "</div>"
      ],
      "text/plain": [
       "   Row ID        Order ID Order Date  Ship Date       Ship Mode Customer ID  \\\n",
       "0       1  CA-2016-152156 2016-11-08 2016-11-11    Second Class    CG-12520   \n",
       "1       2  CA-2016-152156 2016-11-08 2016-11-11    Second Class    CG-12520   \n",
       "2       3  CA-2016-138688 2016-06-12 2016-06-16    Second Class    DV-13045   \n",
       "3       4  US-2015-108966 2015-10-11 2015-10-18  Standard Class    SO-20335   \n",
       "4       5  US-2015-108966 2015-10-11 2015-10-18  Standard Class    SO-20335   \n",
       "\n",
       "     Customer Name    Segment        Country             City  ...  \\\n",
       "0      Claire Gute   Consumer  United States        Henderson  ...   \n",
       "1      Claire Gute   Consumer  United States        Henderson  ...   \n",
       "2  Darrin Van Huff  Corporate  United States      Los Angeles  ...   \n",
       "3   Sean O'Donnell   Consumer  United States  Fort Lauderdale  ...   \n",
       "4   Sean O'Donnell   Consumer  United States  Fort Lauderdale  ...   \n",
       "\n",
       "        Product ID         Category Sub-Category  \\\n",
       "0  FUR-BO-10001798        Furniture    Bookcases   \n",
       "1  FUR-CH-10000454        Furniture       Chairs   \n",
       "2  OFF-LA-10000240  Office Supplies       Labels   \n",
       "3  FUR-TA-10000577        Furniture       Tables   \n",
       "4  OFF-ST-10000760  Office Supplies      Storage   \n",
       "\n",
       "                                        Product Name     Sales Quantity  \\\n",
       "0                  Bush Somerset Collection Bookcase  261.9600        2   \n",
       "1  Hon Deluxe Fabric Upholstered Stacking Chairs,...  731.9400        3   \n",
       "2  Self-Adhesive Address Labels for Typewriters b...   14.6200        2   \n",
       "3      Bretford CR4500 Series Slim Rectangular Table  957.5775        5   \n",
       "4                     Eldon Fold 'N Roll Cart System   22.3680        2   \n",
       "\n",
       "  Discount    Profit  Price Per Unit  year_month  \n",
       "0     0.00   41.9136       110.02320     2016-11  \n",
       "1     0.00  219.5820       170.78600     2016-11  \n",
       "2     0.00    6.8714         3.87430     2016-06  \n",
       "3     0.45 -383.0310       487.49400     2015-10  \n",
       "4     0.20    2.5164        12.40725     2015-10  \n",
       "\n",
       "[5 rows x 23 columns]"
      ]
     },
     "execution_count": 17,
     "metadata": {},
     "output_type": "execute_result"
    }
   ],
   "source": [
    "#Creating Year and a month Column \n",
    "sales_data_analysis['year_month'] = sales_data_analysis['Order Date'].dt.strftime('%Y-%m')\n",
    "sales_data_analysis.head()"
   ]
  },
  {
   "cell_type": "markdown",
   "metadata": {},
   "source": [
    "## b.Create a separate dataset from the data which will have two columns ,one which is created in step a of this task and second the monthly sales /revenue"
   ]
  },
  {
   "cell_type": "code",
   "execution_count": 18,
   "metadata": {},
   "outputs": [
    {
     "name": "stdout",
     "output_type": "stream",
     "text": [
      "   year_month  Monthly_Revenue\n",
      "0     2014-01       14236.8950\n",
      "1     2014-02        4519.8920\n",
      "2     2014-03       55691.0090\n",
      "3     2014-04       28295.3450\n",
      "4     2014-05       23648.2870\n",
      "5     2014-06       34595.1276\n",
      "6     2014-07       33946.3930\n",
      "7     2014-08       27909.4685\n",
      "8     2014-09       81777.3508\n",
      "9     2014-10       31453.3930\n",
      "10    2014-11       78628.7167\n",
      "11    2014-12       69545.6205\n",
      "12    2015-01       18174.0756\n",
      "13    2015-02       11951.4110\n",
      "14    2015-03       38726.2520\n",
      "15    2015-04       34195.2085\n",
      "16    2015-05       30131.6865\n",
      "17    2015-06       24797.2920\n",
      "18    2015-07       28765.3250\n",
      "19    2015-08       36898.3322\n",
      "20    2015-09       64595.9180\n",
      "21    2015-10       31404.9235\n",
      "22    2015-11       75972.5635\n",
      "23    2015-12       74919.5212\n",
      "24    2016-01       18542.4910\n",
      "25    2016-02       22978.8150\n",
      "26    2016-03       51715.8750\n",
      "27    2016-04       38750.0390\n",
      "28    2016-05       56987.7280\n",
      "29    2016-06       40344.5340\n",
      "30    2016-07       39261.9630\n",
      "31    2016-08       31115.3743\n",
      "32    2016-09       73410.0249\n",
      "33    2016-10       59687.7450\n",
      "34    2016-11       79411.9658\n",
      "35    2016-12       96999.0430\n",
      "36    2017-01       43971.3740\n",
      "37    2017-02       20301.1334\n",
      "38    2017-03       58872.3528\n",
      "39    2017-04       36521.5361\n",
      "40    2017-05       44261.1102\n",
      "41    2017-06       52981.7257\n",
      "42    2017-07       45264.4160\n",
      "43    2017-08       63120.8880\n",
      "44    2017-09       87866.6520\n",
      "45    2017-10       77776.9232\n",
      "46    2017-11      118447.8250\n",
      "47    2017-12       83829.3188\n"
     ]
    }
   ],
   "source": [
    "\n",
    "new_sheet = sales_data_analysis[['year_month']].copy()\n",
    "new_sheet['Monthly_Revenue'] = sales_data_analysis['Sales']\n",
    "new_sheet = new_sheet.groupby(['year_month'], as_index = False).agg('sum')\n",
    "print(new_sheet)"
   ]
  },
  {
   "cell_type": "markdown",
   "metadata": {},
   "source": [
    "## c. Plot this dataset"
   ]
  },
  {
   "cell_type": "code",
   "execution_count": 19,
   "metadata": {},
   "outputs": [
    {
     "data": {
      "image/png": "[encoded data removed]",
      "text/plain": [
       "<Figure size 432x288 with 1 Axes>"
      ]
     },
     "metadata": {
      "needs_background": "light"
     },
     "output_type": "display_data"
    }
   ],
   "source": [
    "# chosing the new dataset. \n",
    "\n",
    "new_sheet.plot.bar(x = 'year_month', y =\"Monthly_Revenue\")\n",
    "plt.show()"
   ]
  },
  {
   "cell_type": "code",
   "execution_count": 20,
   "metadata": {},
   "outputs": [
    {
     "name": "stdout",
     "output_type": "stream",
     "text": [
      "Average Monthly Revenue: 47858.351256250004\n",
      "Maximum Monthly Revenue: 118447.82500000003\n",
      "Minimum Monthly Revenue: 4519.892000000001\n"
     ]
    }
   ],
   "source": [
    "mean1 = new_sheet['Monthly_Revenue'].mean()\n",
    "max1 = new_sheet['Monthly_Revenue'].max()\n",
    "min1 = new_sheet['Monthly_Revenue'].min()\n",
    "\n",
    "print ('Average Monthly Revenue: ' + str(mean1))\n",
    "print ('Maximum Monthly Revenue: ' + str(max1))\n",
    "print ('Minimum Monthly Revenue: ' + str(min1))"
   ]
  },
  {
   "cell_type": "markdown",
   "metadata": {},
   "source": [
    "Monthly revenue shows an overall increase throughout the months, the revenue is always positive but has deviated from the trend at certain intervals.\n",
    "\n",
    "From the data it is evident that fourth quarter of every year has shown the highest revenue.\n",
    "The first quarter of every year shows the least revenue every year.\n",
    "The second quarter of every year shows stagnation or very less deviation.\n",
    "The third quarter of every year shows an increase in revenue."
   ]
  },
  {
   "cell_type": "markdown",
   "metadata": {},
   "source": [
    "# TASK 5 Find Out the yearly revenue and analyze the findings "
   ]
  },
  {
   "cell_type": "markdown",
   "metadata": {},
   "source": [
    "## 5a. Create a column with year field only give a suitable name to it"
   ]
  },
  {
   "cell_type": "code",
   "execution_count": 21,
   "metadata": {},
   "outputs": [
    {
     "data": {
      "text/html": [
       "<div>\n",
       "<style scoped>\n",
       "    .dataframe tbody tr th:only-of-type {\n",
       "        vertical-align: middle;\n",
       "    }\n",
       "\n",
       "    .dataframe tbody tr th {\n",
       "        vertical-align: top;\n",
       "    }\n",
       "\n",
       "    .dataframe thead th {\n",
       "        text-align: right;\n",
       "    }\n",
       "</style>\n",
       "<table border=\"1\" class=\"dataframe\">\n",
       "  <thead>\n",
       "    <tr style=\"text-align: right;\">\n",
       "      <th></th>\n",
       "      <th>Row ID</th>\n",
       "      <th>Order ID</th>\n",
       "      <th>Order Date</th>\n",
       "      <th>Ship Date</th>\n",
       "      <th>Ship Mode</th>\n",
       "      <th>Customer ID</th>\n",
       "      <th>Customer Name</th>\n",
       "      <th>Segment</th>\n",
       "      <th>Country</th>\n",
       "      <th>City</th>\n",
       "      <th>...</th>\n",
       "      <th>Category</th>\n",
       "      <th>Sub-Category</th>\n",
       "      <th>Product Name</th>\n",
       "      <th>Sales</th>\n",
       "      <th>Quantity</th>\n",
       "      <th>Discount</th>\n",
       "      <th>Profit</th>\n",
       "      <th>Price Per Unit</th>\n",
       "      <th>year_month</th>\n",
       "      <th>Year</th>\n",
       "    </tr>\n",
       "  </thead>\n",
       "  <tbody>\n",
       "    <tr>\n",
       "      <th>0</th>\n",
       "      <td>1</td>\n",
       "      <td>CA-2016-152156</td>\n",
       "      <td>2016-11-08</td>\n",
       "      <td>2016-11-11</td>\n",
       "      <td>Second Class</td>\n",
       "      <td>CG-12520</td>\n",
       "      <td>Claire Gute</td>\n",
       "      <td>Consumer</td>\n",
       "      <td>United States</td>\n",
       "      <td>Henderson</td>\n",
       "      <td>...</td>\n",
       "      <td>Furniture</td>\n",
       "      <td>Bookcases</td>\n",
       "      <td>Bush Somerset Collection Bookcase</td>\n",
       "      <td>261.9600</td>\n",
       "      <td>2</td>\n",
       "      <td>0.00</td>\n",
       "      <td>41.9136</td>\n",
       "      <td>110.02320</td>\n",
       "      <td>2016-11</td>\n",
       "      <td>2016</td>\n",
       "    </tr>\n",
       "    <tr>\n",
       "      <th>1</th>\n",
       "      <td>2</td>\n",
       "      <td>CA-2016-152156</td>\n",
       "      <td>2016-11-08</td>\n",
       "      <td>2016-11-11</td>\n",
       "      <td>Second Class</td>\n",
       "      <td>CG-12520</td>\n",
       "      <td>Claire Gute</td>\n",
       "      <td>Consumer</td>\n",
       "      <td>United States</td>\n",
       "      <td>Henderson</td>\n",
       "      <td>...</td>\n",
       "      <td>Furniture</td>\n",
       "      <td>Chairs</td>\n",
       "      <td>Hon Deluxe Fabric Upholstered Stacking Chairs,...</td>\n",
       "      <td>731.9400</td>\n",
       "      <td>3</td>\n",
       "      <td>0.00</td>\n",
       "      <td>219.5820</td>\n",
       "      <td>170.78600</td>\n",
       "      <td>2016-11</td>\n",
       "      <td>2016</td>\n",
       "    </tr>\n",
       "    <tr>\n",
       "      <th>2</th>\n",
       "      <td>3</td>\n",
       "      <td>CA-2016-138688</td>\n",
       "      <td>2016-06-12</td>\n",
       "      <td>2016-06-16</td>\n",
       "      <td>Second Class</td>\n",
       "      <td>DV-13045</td>\n",
       "      <td>Darrin Van Huff</td>\n",
       "      <td>Corporate</td>\n",
       "      <td>United States</td>\n",
       "      <td>Los Angeles</td>\n",
       "      <td>...</td>\n",
       "      <td>Office Supplies</td>\n",
       "      <td>Labels</td>\n",
       "      <td>Self-Adhesive Address Labels for Typewriters b...</td>\n",
       "      <td>14.6200</td>\n",
       "      <td>2</td>\n",
       "      <td>0.00</td>\n",
       "      <td>6.8714</td>\n",
       "      <td>3.87430</td>\n",
       "      <td>2016-06</td>\n",
       "      <td>2016</td>\n",
       "    </tr>\n",
       "    <tr>\n",
       "      <th>3</th>\n",
       "      <td>4</td>\n",
       "      <td>US-2015-108966</td>\n",
       "      <td>2015-10-11</td>\n",
       "      <td>2015-10-18</td>\n",
       "      <td>Standard Class</td>\n",
       "      <td>SO-20335</td>\n",
       "      <td>Sean O'Donnell</td>\n",
       "      <td>Consumer</td>\n",
       "      <td>United States</td>\n",
       "      <td>Fort Lauderdale</td>\n",
       "      <td>...</td>\n",
       "      <td>Furniture</td>\n",
       "      <td>Tables</td>\n",
       "      <td>Bretford CR4500 Series Slim Rectangular Table</td>\n",
       "      <td>957.5775</td>\n",
       "      <td>5</td>\n",
       "      <td>0.45</td>\n",
       "      <td>-383.0310</td>\n",
       "      <td>487.49400</td>\n",
       "      <td>2015-10</td>\n",
       "      <td>2015</td>\n",
       "    </tr>\n",
       "    <tr>\n",
       "      <th>4</th>\n",
       "      <td>5</td>\n",
       "      <td>US-2015-108966</td>\n",
       "      <td>2015-10-11</td>\n",
       "      <td>2015-10-18</td>\n",
       "      <td>Standard Class</td>\n",
       "      <td>SO-20335</td>\n",
       "      <td>Sean O'Donnell</td>\n",
       "      <td>Consumer</td>\n",
       "      <td>United States</td>\n",
       "      <td>Fort Lauderdale</td>\n",
       "      <td>...</td>\n",
       "      <td>Office Supplies</td>\n",
       "      <td>Storage</td>\n",
       "      <td>Eldon Fold 'N Roll Cart System</td>\n",
       "      <td>22.3680</td>\n",
       "      <td>2</td>\n",
       "      <td>0.20</td>\n",
       "      <td>2.5164</td>\n",
       "      <td>12.40725</td>\n",
       "      <td>2015-10</td>\n",
       "      <td>2015</td>\n",
       "    </tr>\n",
       "  </tbody>\n",
       "</table>\n",
       "<p>5 rows × 24 columns</p>\n",
       "</div>"
      ],
      "text/plain": [
       "   Row ID        Order ID Order Date  Ship Date       Ship Mode Customer ID  \\\n",
       "0       1  CA-2016-152156 2016-11-08 2016-11-11    Second Class    CG-12520   \n",
       "1       2  CA-2016-152156 2016-11-08 2016-11-11    Second Class    CG-12520   \n",
       "2       3  CA-2016-138688 2016-06-12 2016-06-16    Second Class    DV-13045   \n",
       "3       4  US-2015-108966 2015-10-11 2015-10-18  Standard Class    SO-20335   \n",
       "4       5  US-2015-108966 2015-10-11 2015-10-18  Standard Class    SO-20335   \n",
       "\n",
       "     Customer Name    Segment        Country             City  ...  \\\n",
       "0      Claire Gute   Consumer  United States        Henderson  ...   \n",
       "1      Claire Gute   Consumer  United States        Henderson  ...   \n",
       "2  Darrin Van Huff  Corporate  United States      Los Angeles  ...   \n",
       "3   Sean O'Donnell   Consumer  United States  Fort Lauderdale  ...   \n",
       "4   Sean O'Donnell   Consumer  United States  Fort Lauderdale  ...   \n",
       "\n",
       "          Category  Sub-Category  \\\n",
       "0        Furniture     Bookcases   \n",
       "1        Furniture        Chairs   \n",
       "2  Office Supplies        Labels   \n",
       "3        Furniture        Tables   \n",
       "4  Office Supplies       Storage   \n",
       "\n",
       "                                        Product Name     Sales Quantity  \\\n",
       "0                  Bush Somerset Collection Bookcase  261.9600        2   \n",
       "1  Hon Deluxe Fabric Upholstered Stacking Chairs,...  731.9400        3   \n",
       "2  Self-Adhesive Address Labels for Typewriters b...   14.6200        2   \n",
       "3      Bretford CR4500 Series Slim Rectangular Table  957.5775        5   \n",
       "4                     Eldon Fold 'N Roll Cart System   22.3680        2   \n",
       "\n",
       "  Discount    Profit  Price Per Unit  year_month  Year  \n",
       "0     0.00   41.9136       110.02320     2016-11  2016  \n",
       "1     0.00  219.5820       170.78600     2016-11  2016  \n",
       "2     0.00    6.8714         3.87430     2016-06  2016  \n",
       "3     0.45 -383.0310       487.49400     2015-10  2015  \n",
       "4     0.20    2.5164        12.40725     2015-10  2015  \n",
       "\n",
       "[5 rows x 24 columns]"
      ]
     },
     "execution_count": 21,
     "metadata": {},
     "output_type": "execute_result"
    }
   ],
   "source": [
    "sales_data_analysis[\"Year\"] = pd.to_datetime(sales_data_analysis[\"Order Date\"]).dt.to_period('Y')\n",
    "sales_data_analysis.head()"
   ]
  },
  {
   "cell_type": "markdown",
   "metadata": {},
   "source": [
    "## 5b Create a separate dataset from the data which will have two columns , one which is created in step a of this task and second the yearly sales / revenue"
   ]
  },
  {
   "cell_type": "code",
   "execution_count": 22,
   "metadata": {},
   "outputs": [
    {
     "name": "stdout",
     "output_type": "stream",
     "text": [
      "   Year  Yearly_Revenue\n",
      "0  2014     484247.4981\n",
      "1  2015     470532.5090\n",
      "2  2016     609205.5980\n",
      "3  2017     733215.2552\n"
     ]
    }
   ],
   "source": [
    "new_sheet2 = sales_data_analysis[['Year']].copy()\n",
    "new_sheet2['Yearly_Revenue'] = sales_data_analysis['Sales']\n",
    "new_sheet2 = new_sheet2.groupby(['Year'], as_index = False).agg('sum')\n",
    "print(new_sheet2)"
   ]
  },
  {
   "cell_type": "markdown",
   "metadata": {},
   "source": [
    "## 5.c Plot this dataset"
   ]
  },
  {
   "cell_type": "code",
   "execution_count": 23,
   "metadata": {},
   "outputs": [
    {
     "data": {
      "image/png": "[encoded data removed]",
      "text/plain": [
       "<Figure size 432x288 with 1 Axes>"
      ]
     },
     "metadata": {
      "needs_background": "light"
     },
     "output_type": "display_data"
    }
   ],
   "source": [
    "new_sheet2.plot.bar(x =\"Year\", y =\"Yearly_Revenue\")\n",
    "plt.show()"
   ]
  },
  {
   "cell_type": "markdown",
   "metadata": {},
   "source": [
    "## 5.d Describe your analysis for the yearly revenue observations."
   ]
  },
  {
   "cell_type": "code",
   "execution_count": 24,
   "metadata": {},
   "outputs": [
    {
     "name": "stdout",
     "output_type": "stream",
     "text": [
      "Average Yearly Revenue: 574300.2150750004\n",
      "Maximum Yearly Revenue: 733215.2551999999\n",
      "Minimum Yearly Revenue: 470532.50899999985\n"
     ]
    }
   ],
   "source": [
    "\n",
    "mean1 = new_sheet2['Yearly_Revenue'].mean()\n",
    "max1 = new_sheet2['Yearly_Revenue'].max()\n",
    "min1 = new_sheet2['Yearly_Revenue'].min()\n",
    "\n",
    "print ('Average Yearly Revenue: ' + str(mean1))\n",
    "print ('Maximum Yearly Revenue: ' + str(max1))\n",
    "print ('Minimum Yearly Revenue: ' + str(min1))"
   ]
  },
  {
   "cell_type": "markdown",
   "metadata": {},
   "source": [
    "\n",
    "Yearly revenue has been increasing for the years 2015, 16 and 17 meanwhile there is a minor drop in revenue in 2015 as compared to 2014.\n",
    "\n",
    "Overall from the data it can be inferred that there is an increasing trend in revenue"
   ]
  },
  {
   "cell_type": "markdown",
   "metadata": {},
   "source": [
    "# TASK 6 Finding out the monthly growth rate and analyse the findings"
   ]
  },
  {
   "cell_type": "markdown",
   "metadata": {},
   "source": [
    "## a.Create a column in the monthly revenue dataset for monthly growth rate\n"
   ]
  },
  {
   "cell_type": "code",
   "execution_count": 25,
   "metadata": {},
   "outputs": [
    {
     "data": {
      "text/html": [
       "<div>\n",
       "<style scoped>\n",
       "    .dataframe tbody tr th:only-of-type {\n",
       "        vertical-align: middle;\n",
       "    }\n",
       "\n",
       "    .dataframe tbody tr th {\n",
       "        vertical-align: top;\n",
       "    }\n",
       "\n",
       "    .dataframe thead th {\n",
       "        text-align: right;\n",
       "    }\n",
       "</style>\n",
       "<table border=\"1\" class=\"dataframe\">\n",
       "  <thead>\n",
       "    <tr style=\"text-align: right;\">\n",
       "      <th></th>\n",
       "      <th>year_month</th>\n",
       "      <th>Monthly_Revenue</th>\n",
       "      <th>Monthly_Growth</th>\n",
       "    </tr>\n",
       "  </thead>\n",
       "  <tbody>\n",
       "    <tr>\n",
       "      <th>0</th>\n",
       "      <td>2014-01</td>\n",
       "      <td>14236.8950</td>\n",
       "      <td>NaN</td>\n",
       "    </tr>\n",
       "    <tr>\n",
       "      <th>1</th>\n",
       "      <td>2014-02</td>\n",
       "      <td>4519.8920</td>\n",
       "      <td>-68.252263</td>\n",
       "    </tr>\n",
       "    <tr>\n",
       "      <th>2</th>\n",
       "      <td>2014-03</td>\n",
       "      <td>55691.0090</td>\n",
       "      <td>1132.131409</td>\n",
       "    </tr>\n",
       "    <tr>\n",
       "      <th>3</th>\n",
       "      <td>2014-04</td>\n",
       "      <td>28295.3450</td>\n",
       "      <td>-49.192257</td>\n",
       "    </tr>\n",
       "    <tr>\n",
       "      <th>4</th>\n",
       "      <td>2014-05</td>\n",
       "      <td>23648.2870</td>\n",
       "      <td>-16.423401</td>\n",
       "    </tr>\n",
       "    <tr>\n",
       "      <th>5</th>\n",
       "      <td>2014-06</td>\n",
       "      <td>34595.1276</td>\n",
       "      <td>46.290205</td>\n",
       "    </tr>\n",
       "    <tr>\n",
       "      <th>6</th>\n",
       "      <td>2014-07</td>\n",
       "      <td>33946.3930</td>\n",
       "      <td>-1.875220</td>\n",
       "    </tr>\n",
       "    <tr>\n",
       "      <th>7</th>\n",
       "      <td>2014-08</td>\n",
       "      <td>27909.4685</td>\n",
       "      <td>-17.783699</td>\n",
       "    </tr>\n",
       "    <tr>\n",
       "      <th>8</th>\n",
       "      <td>2014-09</td>\n",
       "      <td>81777.3508</td>\n",
       "      <td>193.009345</td>\n",
       "    </tr>\n",
       "    <tr>\n",
       "      <th>9</th>\n",
       "      <td>2014-10</td>\n",
       "      <td>31453.3930</td>\n",
       "      <td>-61.537770</td>\n",
       "    </tr>\n",
       "    <tr>\n",
       "      <th>10</th>\n",
       "      <td>2014-11</td>\n",
       "      <td>78628.7167</td>\n",
       "      <td>149.984848</td>\n",
       "    </tr>\n",
       "    <tr>\n",
       "      <th>11</th>\n",
       "      <td>2014-12</td>\n",
       "      <td>69545.6205</td>\n",
       "      <td>-11.551882</td>\n",
       "    </tr>\n",
       "    <tr>\n",
       "      <th>12</th>\n",
       "      <td>2015-01</td>\n",
       "      <td>18174.0756</td>\n",
       "      <td>-73.867405</td>\n",
       "    </tr>\n",
       "    <tr>\n",
       "      <th>13</th>\n",
       "      <td>2015-02</td>\n",
       "      <td>11951.4110</td>\n",
       "      <td>-34.239236</td>\n",
       "    </tr>\n",
       "    <tr>\n",
       "      <th>14</th>\n",
       "      <td>2015-03</td>\n",
       "      <td>38726.2520</td>\n",
       "      <td>224.030794</td>\n",
       "    </tr>\n",
       "    <tr>\n",
       "      <th>15</th>\n",
       "      <td>2015-04</td>\n",
       "      <td>34195.2085</td>\n",
       "      <td>-11.700186</td>\n",
       "    </tr>\n",
       "    <tr>\n",
       "      <th>16</th>\n",
       "      <td>2015-05</td>\n",
       "      <td>30131.6865</td>\n",
       "      <td>-11.883308</td>\n",
       "    </tr>\n",
       "    <tr>\n",
       "      <th>17</th>\n",
       "      <td>2015-06</td>\n",
       "      <td>24797.2920</td>\n",
       "      <td>-17.703604</td>\n",
       "    </tr>\n",
       "    <tr>\n",
       "      <th>18</th>\n",
       "      <td>2015-07</td>\n",
       "      <td>28765.3250</td>\n",
       "      <td>16.001880</td>\n",
       "    </tr>\n",
       "    <tr>\n",
       "      <th>19</th>\n",
       "      <td>2015-08</td>\n",
       "      <td>36898.3322</td>\n",
       "      <td>28.273650</td>\n",
       "    </tr>\n",
       "    <tr>\n",
       "      <th>20</th>\n",
       "      <td>2015-09</td>\n",
       "      <td>64595.9180</td>\n",
       "      <td>75.064601</td>\n",
       "    </tr>\n",
       "    <tr>\n",
       "      <th>21</th>\n",
       "      <td>2015-10</td>\n",
       "      <td>31404.9235</td>\n",
       "      <td>-51.382495</td>\n",
       "    </tr>\n",
       "    <tr>\n",
       "      <th>22</th>\n",
       "      <td>2015-11</td>\n",
       "      <td>75972.5635</td>\n",
       "      <td>141.912907</td>\n",
       "    </tr>\n",
       "    <tr>\n",
       "      <th>23</th>\n",
       "      <td>2015-12</td>\n",
       "      <td>74919.5212</td>\n",
       "      <td>-1.386082</td>\n",
       "    </tr>\n",
       "    <tr>\n",
       "      <th>24</th>\n",
       "      <td>2016-01</td>\n",
       "      <td>18542.4910</td>\n",
       "      <td>-75.250121</td>\n",
       "    </tr>\n",
       "    <tr>\n",
       "      <th>25</th>\n",
       "      <td>2016-02</td>\n",
       "      <td>22978.8150</td>\n",
       "      <td>23.925178</td>\n",
       "    </tr>\n",
       "    <tr>\n",
       "      <th>26</th>\n",
       "      <td>2016-03</td>\n",
       "      <td>51715.8750</td>\n",
       "      <td>125.058929</td>\n",
       "    </tr>\n",
       "    <tr>\n",
       "      <th>27</th>\n",
       "      <td>2016-04</td>\n",
       "      <td>38750.0390</td>\n",
       "      <td>-25.071288</td>\n",
       "    </tr>\n",
       "    <tr>\n",
       "      <th>28</th>\n",
       "      <td>2016-05</td>\n",
       "      <td>56987.7280</td>\n",
       "      <td>47.064957</td>\n",
       "    </tr>\n",
       "    <tr>\n",
       "      <th>29</th>\n",
       "      <td>2016-06</td>\n",
       "      <td>40344.5340</td>\n",
       "      <td>-29.204874</td>\n",
       "    </tr>\n",
       "    <tr>\n",
       "      <th>30</th>\n",
       "      <td>2016-07</td>\n",
       "      <td>39261.9630</td>\n",
       "      <td>-2.683315</td>\n",
       "    </tr>\n",
       "    <tr>\n",
       "      <th>31</th>\n",
       "      <td>2016-08</td>\n",
       "      <td>31115.3743</td>\n",
       "      <td>-20.749316</td>\n",
       "    </tr>\n",
       "    <tr>\n",
       "      <th>32</th>\n",
       "      <td>2016-09</td>\n",
       "      <td>73410.0249</td>\n",
       "      <td>135.928465</td>\n",
       "    </tr>\n",
       "    <tr>\n",
       "      <th>33</th>\n",
       "      <td>2016-10</td>\n",
       "      <td>59687.7450</td>\n",
       "      <td>-18.692651</td>\n",
       "    </tr>\n",
       "    <tr>\n",
       "      <th>34</th>\n",
       "      <td>2016-11</td>\n",
       "      <td>79411.9658</td>\n",
       "      <td>33.045679</td>\n",
       "    </tr>\n",
       "    <tr>\n",
       "      <th>35</th>\n",
       "      <td>2016-12</td>\n",
       "      <td>96999.0430</td>\n",
       "      <td>22.146634</td>\n",
       "    </tr>\n",
       "    <tr>\n",
       "      <th>36</th>\n",
       "      <td>2017-01</td>\n",
       "      <td>43971.3740</td>\n",
       "      <td>-54.668239</td>\n",
       "    </tr>\n",
       "    <tr>\n",
       "      <th>37</th>\n",
       "      <td>2017-02</td>\n",
       "      <td>20301.1334</td>\n",
       "      <td>-53.831023</td>\n",
       "    </tr>\n",
       "    <tr>\n",
       "      <th>38</th>\n",
       "      <td>2017-03</td>\n",
       "      <td>58872.3528</td>\n",
       "      <td>189.995399</td>\n",
       "    </tr>\n",
       "    <tr>\n",
       "      <th>39</th>\n",
       "      <td>2017-04</td>\n",
       "      <td>36521.5361</td>\n",
       "      <td>-37.964878</td>\n",
       "    </tr>\n",
       "    <tr>\n",
       "      <th>40</th>\n",
       "      <td>2017-05</td>\n",
       "      <td>44261.1102</td>\n",
       "      <td>21.191809</td>\n",
       "    </tr>\n",
       "    <tr>\n",
       "      <th>41</th>\n",
       "      <td>2017-06</td>\n",
       "      <td>52981.7257</td>\n",
       "      <td>19.702659</td>\n",
       "    </tr>\n",
       "    <tr>\n",
       "      <th>42</th>\n",
       "      <td>2017-07</td>\n",
       "      <td>45264.4160</td>\n",
       "      <td>-14.565984</td>\n",
       "    </tr>\n",
       "    <tr>\n",
       "      <th>43</th>\n",
       "      <td>2017-08</td>\n",
       "      <td>63120.8880</td>\n",
       "      <td>39.449249</td>\n",
       "    </tr>\n",
       "    <tr>\n",
       "      <th>44</th>\n",
       "      <td>2017-09</td>\n",
       "      <td>87866.6520</td>\n",
       "      <td>39.203764</td>\n",
       "    </tr>\n",
       "    <tr>\n",
       "      <th>45</th>\n",
       "      <td>2017-10</td>\n",
       "      <td>77776.9232</td>\n",
       "      <td>-11.483001</td>\n",
       "    </tr>\n",
       "    <tr>\n",
       "      <th>46</th>\n",
       "      <td>2017-11</td>\n",
       "      <td>118447.8250</td>\n",
       "      <td>52.291734</td>\n",
       "    </tr>\n",
       "    <tr>\n",
       "      <th>47</th>\n",
       "      <td>2017-12</td>\n",
       "      <td>83829.3188</td>\n",
       "      <td>-29.226798</td>\n",
       "    </tr>\n",
       "  </tbody>\n",
       "</table>\n",
       "</div>"
      ],
      "text/plain": [
       "   year_month  Monthly_Revenue  Monthly_Growth\n",
       "0     2014-01       14236.8950             NaN\n",
       "1     2014-02        4519.8920      -68.252263\n",
       "2     2014-03       55691.0090     1132.131409\n",
       "3     2014-04       28295.3450      -49.192257\n",
       "4     2014-05       23648.2870      -16.423401\n",
       "5     2014-06       34595.1276       46.290205\n",
       "6     2014-07       33946.3930       -1.875220\n",
       "7     2014-08       27909.4685      -17.783699\n",
       "8     2014-09       81777.3508      193.009345\n",
       "9     2014-10       31453.3930      -61.537770\n",
       "10    2014-11       78628.7167      149.984848\n",
       "11    2014-12       69545.6205      -11.551882\n",
       "12    2015-01       18174.0756      -73.867405\n",
       "13    2015-02       11951.4110      -34.239236\n",
       "14    2015-03       38726.2520      224.030794\n",
       "15    2015-04       34195.2085      -11.700186\n",
       "16    2015-05       30131.6865      -11.883308\n",
       "17    2015-06       24797.2920      -17.703604\n",
       "18    2015-07       28765.3250       16.001880\n",
       "19    2015-08       36898.3322       28.273650\n",
       "20    2015-09       64595.9180       75.064601\n",
       "21    2015-10       31404.9235      -51.382495\n",
       "22    2015-11       75972.5635      141.912907\n",
       "23    2015-12       74919.5212       -1.386082\n",
       "24    2016-01       18542.4910      -75.250121\n",
       "25    2016-02       22978.8150       23.925178\n",
       "26    2016-03       51715.8750      125.058929\n",
       "27    2016-04       38750.0390      -25.071288\n",
       "28    2016-05       56987.7280       47.064957\n",
       "29    2016-06       40344.5340      -29.204874\n",
       "30    2016-07       39261.9630       -2.683315\n",
       "31    2016-08       31115.3743      -20.749316\n",
       "32    2016-09       73410.0249      135.928465\n",
       "33    2016-10       59687.7450      -18.692651\n",
       "34    2016-11       79411.9658       33.045679\n",
       "35    2016-12       96999.0430       22.146634\n",
       "36    2017-01       43971.3740      -54.668239\n",
       "37    2017-02       20301.1334      -53.831023\n",
       "38    2017-03       58872.3528      189.995399\n",
       "39    2017-04       36521.5361      -37.964878\n",
       "40    2017-05       44261.1102       21.191809\n",
       "41    2017-06       52981.7257       19.702659\n",
       "42    2017-07       45264.4160      -14.565984\n",
       "43    2017-08       63120.8880       39.449249\n",
       "44    2017-09       87866.6520       39.203764\n",
       "45    2017-10       77776.9232      -11.483001\n",
       "46    2017-11      118447.8250       52.291734\n",
       "47    2017-12       83829.3188      -29.226798"
      ]
     },
     "execution_count": 25,
     "metadata": {},
     "output_type": "execute_result"
    }
   ],
   "source": [
    "new_sheet[\"Monthly_Growth\"] = new_sheet[\"Monthly_Revenue\"].pct_change()*100\n",
    "new_sheet"
   ]
  },
  {
   "cell_type": "markdown",
   "metadata": {},
   "source": [
    "## 6.b Find out the maximum monthly growth rate"
   ]
  },
  {
   "cell_type": "code",
   "execution_count": 26,
   "metadata": {},
   "outputs": [
    {
     "data": {
      "text/plain": [
       "1132.1314093345597"
      ]
     },
     "execution_count": 26,
     "metadata": {},
     "output_type": "execute_result"
    }
   ],
   "source": [
    "max_monthly_growth_rate = new_sheet[\"Monthly_Growth\"].max()\n",
    "max_monthly_growth_rate"
   ]
  },
  {
   "cell_type": "markdown",
   "metadata": {},
   "source": [
    "## 6c  Plot the findings"
   ]
  },
  {
   "cell_type": "code",
   "execution_count": 27,
   "metadata": {},
   "outputs": [
    {
     "data": {
      "image/png": "[encoded data removed]",
      "text/plain": [
       "<Figure size 432x288 with 1 Axes>"
      ]
     },
     "metadata": {
      "needs_background": "light"
     },
     "output_type": "display_data"
    }
   ],
   "source": [
    "new_sheet.plot.line(x = 'year_month', y = 'Monthly_Growth')\n",
    "plt.show()"
   ]
  },
  {
   "cell_type": "markdown",
   "metadata": {},
   "source": [
    "## 6d  Describe the findings"
   ]
  },
  {
   "cell_type": "markdown",
   "metadata": {},
   "source": [
    "There is a 1132% spike during the first quarter of 2014.\n",
    "The graph shows that there is an increasing trend to in the monthly growth rate, as the graph is comparing monthly revenues of concurrent months, it can be inferred that flat lines show no change in revenue while positive slope shows there is an increase in revenue and vice-versa.\n",
    "From the data it can be inferred that there is stagnation in monthly profits over the years"
   ]
  },
  {
   "cell_type": "markdown",
   "metadata": {},
   "source": [
    "# TASK 7 Finding out the most and least sold product id"
   ]
  },
  {
   "cell_type": "markdown",
   "metadata": {},
   "source": [
    "## a.Create a new dataset including the product ids and total quantities sold for that id\n"
   ]
  },
  {
   "cell_type": "code",
   "execution_count": 28,
   "metadata": {},
   "outputs": [
    {
     "data": {
      "text/html": [
       "<div>\n",
       "<style scoped>\n",
       "    .dataframe tbody tr th:only-of-type {\n",
       "        vertical-align: middle;\n",
       "    }\n",
       "\n",
       "    .dataframe tbody tr th {\n",
       "        vertical-align: top;\n",
       "    }\n",
       "\n",
       "    .dataframe thead th {\n",
       "        text-align: right;\n",
       "    }\n",
       "</style>\n",
       "<table border=\"1\" class=\"dataframe\">\n",
       "  <thead>\n",
       "    <tr style=\"text-align: right;\">\n",
       "      <th></th>\n",
       "      <th>Product ID</th>\n",
       "      <th>Quantity</th>\n",
       "    </tr>\n",
       "  </thead>\n",
       "  <tbody>\n",
       "    <tr>\n",
       "      <th>0</th>\n",
       "      <td>FUR-BO-10000112</td>\n",
       "      <td>9</td>\n",
       "    </tr>\n",
       "    <tr>\n",
       "      <th>1</th>\n",
       "      <td>FUR-BO-10000330</td>\n",
       "      <td>10</td>\n",
       "    </tr>\n",
       "    <tr>\n",
       "      <th>2</th>\n",
       "      <td>FUR-BO-10000362</td>\n",
       "      <td>14</td>\n",
       "    </tr>\n",
       "    <tr>\n",
       "      <th>3</th>\n",
       "      <td>FUR-BO-10000468</td>\n",
       "      <td>21</td>\n",
       "    </tr>\n",
       "    <tr>\n",
       "      <th>4</th>\n",
       "      <td>FUR-BO-10000711</td>\n",
       "      <td>12</td>\n",
       "    </tr>\n",
       "    <tr>\n",
       "      <th>...</th>\n",
       "      <td>...</td>\n",
       "      <td>...</td>\n",
       "    </tr>\n",
       "    <tr>\n",
       "      <th>1857</th>\n",
       "      <td>TEC-PH-10004912</td>\n",
       "      <td>11</td>\n",
       "    </tr>\n",
       "    <tr>\n",
       "      <th>1858</th>\n",
       "      <td>TEC-PH-10004922</td>\n",
       "      <td>19</td>\n",
       "    </tr>\n",
       "    <tr>\n",
       "      <th>1859</th>\n",
       "      <td>TEC-PH-10004924</td>\n",
       "      <td>8</td>\n",
       "    </tr>\n",
       "    <tr>\n",
       "      <th>1860</th>\n",
       "      <td>TEC-PH-10004959</td>\n",
       "      <td>4</td>\n",
       "    </tr>\n",
       "    <tr>\n",
       "      <th>1861</th>\n",
       "      <td>TEC-PH-10004977</td>\n",
       "      <td>32</td>\n",
       "    </tr>\n",
       "  </tbody>\n",
       "</table>\n",
       "<p>1862 rows × 2 columns</p>\n",
       "</div>"
      ],
      "text/plain": [
       "           Product ID  Quantity\n",
       "0     FUR-BO-10000112         9\n",
       "1     FUR-BO-10000330        10\n",
       "2     FUR-BO-10000362        14\n",
       "3     FUR-BO-10000468        21\n",
       "4     FUR-BO-10000711        12\n",
       "...               ...       ...\n",
       "1857  TEC-PH-10004912        11\n",
       "1858  TEC-PH-10004922        19\n",
       "1859  TEC-PH-10004924         8\n",
       "1860  TEC-PH-10004959         4\n",
       "1861  TEC-PH-10004977        32\n",
       "\n",
       "[1862 rows x 2 columns]"
      ]
     },
     "execution_count": 28,
     "metadata": {},
     "output_type": "execute_result"
    }
   ],
   "source": [
    "product_sales = sales_data_analysis[[\"Product ID\",\"Quantity\"]].copy()\n",
    "product_sales = product_sales.groupby([\"Product ID\"], as_index = False).agg(sum)\n",
    "product_sales\n"
   ]
  },
  {
   "cell_type": "markdown",
   "metadata": {},
   "source": [
    "## b..Find out the most sold product from the created dataset"
   ]
  },
  {
   "cell_type": "code",
   "execution_count": 29,
   "metadata": {},
   "outputs": [
    {
     "data": {
      "text/plain": [
       "Product ID    TEC-PH-10004977\n",
       "Quantity                   75\n",
       "dtype: object"
      ]
     },
     "execution_count": 29,
     "metadata": {},
     "output_type": "execute_result"
    }
   ],
   "source": [
    "## Only the Quantity\n",
    "product_sales[\"Quantity\"].max()\n",
    "product_sales.max()"
   ]
  },
  {
   "cell_type": "markdown",
   "metadata": {},
   "source": [
    "# TASK 8 Finding out the customer who bought most and least from us in terms of quantity"
   ]
  },
  {
   "cell_type": "markdown",
   "metadata": {},
   "source": [
    "## a.Create a dataset containing name and quantities bought\n"
   ]
  },
  {
   "cell_type": "code",
   "execution_count": 30,
   "metadata": {},
   "outputs": [
    {
     "data": {
      "text/html": [
       "<div>\n",
       "<style scoped>\n",
       "    .dataframe tbody tr th:only-of-type {\n",
       "        vertical-align: middle;\n",
       "    }\n",
       "\n",
       "    .dataframe tbody tr th {\n",
       "        vertical-align: top;\n",
       "    }\n",
       "\n",
       "    .dataframe thead th {\n",
       "        text-align: right;\n",
       "    }\n",
       "</style>\n",
       "<table border=\"1\" class=\"dataframe\">\n",
       "  <thead>\n",
       "    <tr style=\"text-align: right;\">\n",
       "      <th></th>\n",
       "      <th>Customer Name</th>\n",
       "      <th>Quantity</th>\n",
       "    </tr>\n",
       "  </thead>\n",
       "  <tbody>\n",
       "    <tr>\n",
       "      <th>0</th>\n",
       "      <td>Aaron Bergman</td>\n",
       "      <td>13</td>\n",
       "    </tr>\n",
       "    <tr>\n",
       "      <th>1</th>\n",
       "      <td>Aaron Hawkins</td>\n",
       "      <td>54</td>\n",
       "    </tr>\n",
       "    <tr>\n",
       "      <th>2</th>\n",
       "      <td>Aaron Smayling</td>\n",
       "      <td>48</td>\n",
       "    </tr>\n",
       "    <tr>\n",
       "      <th>3</th>\n",
       "      <td>Adam Bellavance</td>\n",
       "      <td>56</td>\n",
       "    </tr>\n",
       "    <tr>\n",
       "      <th>4</th>\n",
       "      <td>Adam Hart</td>\n",
       "      <td>75</td>\n",
       "    </tr>\n",
       "  </tbody>\n",
       "</table>\n",
       "</div>"
      ],
      "text/plain": [
       "     Customer Name  Quantity\n",
       "0    Aaron Bergman        13\n",
       "1    Aaron Hawkins        54\n",
       "2   Aaron Smayling        48\n",
       "3  Adam Bellavance        56\n",
       "4        Adam Hart        75"
      ]
     },
     "execution_count": 30,
     "metadata": {},
     "output_type": "execute_result"
    }
   ],
   "source": [
    "name_quantity = sales_data_analysis[[\"Customer Name\",\"Quantity\"]].copy()\n",
    "name_quantity = name_quantity.groupby([\"Customer Name\"], as_index = False).agg('sum')\n",
    "name_quantity.head()"
   ]
  },
  {
   "cell_type": "markdown",
   "metadata": {},
   "source": [
    "## b.Find out the customer name and quantity, who bought maximum in quantity\n"
   ]
  },
  {
   "cell_type": "code",
   "execution_count": 31,
   "metadata": {},
   "outputs": [
    {
     "name": "stdout",
     "output_type": "stream",
     "text": [
      " \n",
      " Customer with most puchases:\n",
      "\n"
     ]
    },
    {
     "data": {
      "text/plain": [
       "Customer Name    Zuschuss Donatelli\n",
       "Quantity                        150\n",
       "dtype: object"
      ]
     },
     "execution_count": 31,
     "metadata": {},
     "output_type": "execute_result"
    }
   ],
   "source": [
    "## customer name and quantity who bought max quantity \n",
    "print(\" \\n Customer with most puchases:\\n\")\n",
    "name_quantity.max()"
   ]
  },
  {
   "cell_type": "markdown",
   "metadata": {},
   "source": [
    "# Finding out the customer who bought most and least from us in terms of value\n"
   ]
  },
  {
   "cell_type": "markdown",
   "metadata": {},
   "source": [
    "## a.Create a dataset containing name and sales generated by him\n"
   ]
  },
  {
   "cell_type": "code",
   "execution_count": 32,
   "metadata": {},
   "outputs": [
    {
     "data": {
      "text/html": [
       "<div>\n",
       "<style scoped>\n",
       "    .dataframe tbody tr th:only-of-type {\n",
       "        vertical-align: middle;\n",
       "    }\n",
       "\n",
       "    .dataframe tbody tr th {\n",
       "        vertical-align: top;\n",
       "    }\n",
       "\n",
       "    .dataframe thead th {\n",
       "        text-align: right;\n",
       "    }\n",
       "</style>\n",
       "<table border=\"1\" class=\"dataframe\">\n",
       "  <thead>\n",
       "    <tr style=\"text-align: right;\">\n",
       "      <th></th>\n",
       "      <th>Customer Name</th>\n",
       "      <th>Sales</th>\n",
       "    </tr>\n",
       "  </thead>\n",
       "  <tbody>\n",
       "    <tr>\n",
       "      <th>0</th>\n",
       "      <td>Aaron Bergman</td>\n",
       "      <td>886.156</td>\n",
       "    </tr>\n",
       "    <tr>\n",
       "      <th>1</th>\n",
       "      <td>Aaron Hawkins</td>\n",
       "      <td>1744.700</td>\n",
       "    </tr>\n",
       "    <tr>\n",
       "      <th>2</th>\n",
       "      <td>Aaron Smayling</td>\n",
       "      <td>3050.692</td>\n",
       "    </tr>\n",
       "    <tr>\n",
       "      <th>3</th>\n",
       "      <td>Adam Bellavance</td>\n",
       "      <td>7755.620</td>\n",
       "    </tr>\n",
       "    <tr>\n",
       "      <th>4</th>\n",
       "      <td>Adam Hart</td>\n",
       "      <td>3250.337</td>\n",
       "    </tr>\n",
       "  </tbody>\n",
       "</table>\n",
       "</div>"
      ],
      "text/plain": [
       "     Customer Name     Sales\n",
       "0    Aaron Bergman   886.156\n",
       "1    Aaron Hawkins  1744.700\n",
       "2   Aaron Smayling  3050.692\n",
       "3  Adam Bellavance  7755.620\n",
       "4        Adam Hart  3250.337"
      ]
     },
     "execution_count": 32,
     "metadata": {},
     "output_type": "execute_result"
    }
   ],
   "source": [
    "name_sales = sales_data_analysis[[\"Customer Name\",\"Sales\"]]\n",
    "name_sales = name_sales.groupby([\"Customer Name\"], as_index=False).agg('sum')\n",
    "name_sales.head()"
   ]
  },
  {
   "cell_type": "markdown",
   "metadata": {},
   "source": [
    "## b.Find out the customer name and sales, who bought maximum in value\n"
   ]
  },
  {
   "cell_type": "code",
   "execution_count": 33,
   "metadata": {},
   "outputs": [
    {
     "name": "stdout",
     "output_type": "stream",
     "text": [
      " \n",
      " Customer with most puchases:\n",
      "\n"
     ]
    },
    {
     "data": {
      "text/plain": [
       "Customer Name    Zuschuss Donatelli\n",
       "Sales                         25043\n",
       "dtype: object"
      ]
     },
     "execution_count": 33,
     "metadata": {},
     "output_type": "execute_result"
    }
   ],
   "source": [
    "print(\" \\n Customer with most puchases:\\n\")\n",
    "name_sales.max()"
   ]
  },
  {
   "cell_type": "markdown",
   "metadata": {},
   "source": [
    "## TASK 10 Finding out the majority and minority customer cities on basis of\n"
   ]
  },
  {
   "cell_type": "markdown",
   "metadata": {},
   "source": [
    "## a. Number of customers"
   ]
  },
  {
   "cell_type": "code",
   "execution_count": 34,
   "metadata": {},
   "outputs": [
    {
     "name": "stdout",
     "output_type": "stream",
     "text": [
      "City with most customers :\n",
      "             City  Customer Count\n",
      "0  New York City             915\n",
      "\n",
      "\n",
      "Cities with least customers :\n",
      "                  City  Customer Count\n",
      "0            Aberdeen               1\n",
      "1             Abilene               1\n",
      "2             Antioch               1\n",
      "3   Arlington Heights               1\n",
      "4       Atlantic City               1\n",
      "..                ...             ...\n",
      "65          Vacaville               1\n",
      "66           Waterloo               1\n",
      "67           Waukesha               1\n",
      "68           Whittier               1\n",
      "69            Yucaipa               1\n",
      "\n",
      "[70 rows x 2 columns]\n"
     ]
    }
   ],
   "source": [
    "\n",
    "customer_city = sales_data_analysis[['City', 'Customer Name']].copy()\n",
    "customer_city = customer_city.groupby(['City'], as_index = False).count()\n",
    "customer_city.columns = ['City','Customer Count']\n",
    "majority_customer_city = customer_city[customer_city['Customer Count'] == customer_city['Customer Count'].max()]\n",
    "print(\"City with most customers :\\n\", majority_customer_city.reset_index(drop=True))\n",
    "\n",
    "minority_customer_city = customer_city[customer_city['Customer Count'] == customer_city['Customer Count'].min()]\n",
    "print(\"\\n\\nCities with least customers :\\n\",minority_customer_city.reset_index(drop=True))"
   ]
  },
  {
   "cell_type": "markdown",
   "metadata": {},
   "source": [
    "## b.Sales value\n"
   ]
  },
  {
   "cell_type": "code",
   "execution_count": 35,
   "metadata": {},
   "outputs": [
    {
     "name": "stdout",
     "output_type": "stream",
     "text": [
      "City with highest sales value :\n",
      "               City       Sales\n",
      "329  New York City  256368.161\n",
      "\n",
      "\n",
      "City with least sales value :\n",
      "       City  Sales\n",
      "1  Abilene  1.392\n"
     ]
    }
   ],
   "source": [
    "\n",
    "customer_city = sales_data_analysis[['City', 'Sales']].copy()\n",
    "customer_city = customer_city.groupby(['City'], as_index = False).sum()\n",
    "\n",
    "majority_customer_value = customer_city[customer_city['Sales'] == customer_city['Sales'].max()]\n",
    "print(\"City with highest sales value :\\n\" ,majority_customer_value)\n",
    "\n",
    "minority_customer_value = customer_city[customer_city['Sales'] == customer_city['Sales'].min()]\n",
    "print(\"\\n\\nCity with least sales value :\\n\",minority_customer_value)"
   ]
  },
  {
   "cell_type": "markdown",
   "metadata": {},
   "source": [
    "## c. Number of quantity sold"
   ]
  },
  {
   "cell_type": "code",
   "execution_count": 36,
   "metadata": {},
   "outputs": [
    {
     "name": "stdout",
     "output_type": "stream",
     "text": [
      "Customer with maximum quantity sold :\n",
      "               City  Quantity\n",
      "329  New York City      3417\n",
      "\n",
      "\n",
      "Cities with minimum quantity sold :\n",
      "           City  Quantity\n",
      "0       Elyria         1\n",
      "1    Iowa City         1\n",
      "2      Jupiter         1\n",
      "3  Lindenhurst         1\n",
      "4    Littleton         1\n",
      "5  Port Orange         1\n"
     ]
    }
   ],
   "source": [
    "customer_quantity = sales_data_analysis[['City', 'Quantity']].copy()\n",
    "customer_quantity = customer_quantity.groupby(['City'], as_index = False).sum()\n",
    "\n",
    "maximum_customer_quantity = customer_quantity[customer_quantity['Quantity'] == customer_quantity['Quantity'].max()]\n",
    "print(\"Customer with maximum quantity sold :\\n\", maximum_customer_quantity)\n",
    "\n",
    "minimum_customer_quantity = customer_quantity[customer_quantity['Quantity'] == customer_quantity['Quantity'].min()]\n",
    "print(\"\\n\\nCities with minimum quantity sold :\\n\", minimum_customer_quantity.reset_index(drop=True))"
   ]
  },
  {
   "cell_type": "markdown",
   "metadata": {},
   "source": [
    "# TASK 11 Find out the most and least sold product category from the store"
   ]
  },
  {
   "cell_type": "markdown",
   "metadata": {},
   "source": [
    "## a. Value Based "
   ]
  },
  {
   "cell_type": "code",
   "execution_count": 37,
   "metadata": {},
   "outputs": [
    {
     "name": "stdout",
     "output_type": "stream",
     "text": [
      "Category with maximum sales :       Category       Sales\n",
      "2  Technology  836154.033\n",
      "\n",
      "\n",
      "Category with minumum sales :\n",
      "           Category       Sales\n",
      "1  Office Supplies  719047.032\n"
     ]
    }
   ],
   "source": [
    "sales_category = sales_data_analysis[[\"Category\", \"Sales\"]].copy()\n",
    "sales_category = sales_category.groupby([\"Category\"], as_index = False).sum()\n",
    "\n",
    "maximum_sales_category = sales_category[sales_category['Sales'] == sales_category['Sales'].max()]\n",
    "print(\"Category with maximum sales : \", maximum_sales_category)\n",
    "\n",
    "minimum_sales_category = sales_category[sales_category['Sales'] == sales_category['Sales'].min()]\n",
    "print(\"\\n\\nCategory with minumum sales :\\n\", minimum_sales_category)"
   ]
  },
  {
   "cell_type": "markdown",
   "metadata": {},
   "source": [
    "## b Quantity Based"
   ]
  },
  {
   "cell_type": "code",
   "execution_count": 38,
   "metadata": {},
   "outputs": [
    {
     "name": "stdout",
     "output_type": "stream",
     "text": [
      "Category with maximum quantity sold :\n",
      "           Category  Quantity\n",
      "1  Office Supplies     22906\n",
      "\n",
      "\n",
      "Category with minimum quantity sold :\n",
      "      Category  Quantity\n",
      "2  Technology      6939\n"
     ]
    }
   ],
   "source": [
    "quantity_category = sales_data_analysis[['Category', 'Quantity']].copy()\n",
    "quantity_category = quantity_category.groupby(['Category'], as_index = False).sum()\n",
    "\n",
    "maximum_quantity_category = quantity_category[quantity_category['Quantity'] == quantity_category['Quantity'].max()]\n",
    "print(\"Category with maximum quantity sold :\\n\", maximum_quantity_category)\n",
    "\n",
    "minimum_quantity_category = quantity_category[quantity_category['Quantity'] == quantity_category['Quantity'].min()]\n",
    "print(\"\\n\\nCategory with minimum quantity sold :\\n\", minimum_quantity_category)"
   ]
  },
  {
   "cell_type": "markdown",
   "metadata": {},
   "source": [
    "## TASK 12 Find out the most and least sold product sub category from the store"
   ]
  },
  {
   "cell_type": "markdown",
   "metadata": {},
   "source": [
    "## a. Value Based "
   ]
  },
  {
   "cell_type": "code",
   "execution_count": 39,
   "metadata": {},
   "outputs": [
    {
     "name": "stdout",
     "output_type": "stream",
     "text": [
      "Sub-Category with maximum sales :\n",
      "    Sub-Category       Sales\n",
      "13       Phones  330007.054\n",
      "\n",
      "\n",
      "Sub-Category with minimum sales :\n",
      "   Sub-Category    Sales\n",
      "8    Fasteners  3024.28\n"
     ]
    }
   ],
   "source": [
    "\n",
    "sales_subcategory = sales_data_analysis[['Sub-Category', 'Sales']].copy()\n",
    "sales_subcategory = sales_subcategory.groupby(['Sub-Category'], as_index = False).sum()\n",
    "\n",
    "maximum_sales_subcategory = sales_subcategory[sales_subcategory['Sales'] == sales_subcategory['Sales'].max()]\n",
    "print(\"Sub-Category with maximum sales :\\n\", maximum_sales_subcategory)\n",
    "\n",
    "minimum_sales_subcategory = sales_subcategory[sales_subcategory['Sales'] == sales_subcategory['Sales'].min()]\n",
    "print(\"\\n\\nSub-Category with minimum sales :\\n\", minimum_sales_subcategory)"
   ]
  },
  {
   "cell_type": "markdown",
   "metadata": {},
   "source": [
    "## Quantity based"
   ]
  },
  {
   "cell_type": "code",
   "execution_count": 40,
   "metadata": {},
   "outputs": [
    {
     "name": "stdout",
     "output_type": "stream",
     "text": [
      "Sub-Category with maximum quantity sold :\n",
      "   Sub-Category  Quantity\n",
      "3      Binders      5974\n",
      "\n",
      "\n",
      "Sub-Category with minimum quantity sold :\n",
      "   Sub-Category  Quantity\n",
      "6      Copiers       234\n"
     ]
    }
   ],
   "source": [
    "quantity_subcategory = sales_data_analysis[['Sub-Category', 'Quantity']].copy()\n",
    "quantity_subcategory = quantity_subcategory.groupby(['Sub-Category'], as_index = False).sum()\n",
    "\n",
    "maximum_quantity_category = quantity_subcategory[quantity_subcategory['Quantity'] == quantity_subcategory['Quantity'].max()]\n",
    "print(\"Sub-Category with maximum quantity sold :\\n\", maximum_quantity_category)\n",
    "\n",
    "minimum_quantity_category = quantity_subcategory[quantity_subcategory['Quantity'] == quantity_subcategory['Quantity'].min()]\n",
    "print(\"\\n\\nSub-Category with minimum quantity sold :\\n\", minimum_quantity_category)\n"
   ]
  },
  {
   "cell_type": "code",
   "execution_count": null,
   "metadata": {},
   "outputs": [],
   "source": []
  }
 ],
 "metadata": {
  "kernelspec": {
   "display_name": "Python 3",
   "language": "python",
   "name": "python3"
  },
  "language_info": {
   "codemirror_mode": {
    "name": "ipython",
    "version": 3
   },
   "file_extension": ".py",
   "mimetype": "text/x-python",
   "name": "python",
   "nbconvert_exporter": "python",
   "pygments_lexer": "ipython3",
   "version": "3.8.3"
  }
 },
 "nbformat": 4,
 "nbformat_minor": 4
}
